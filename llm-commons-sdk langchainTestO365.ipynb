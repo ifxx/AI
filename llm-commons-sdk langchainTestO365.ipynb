{
 "cells": [
  {
   "cell_type": "code",
   "execution_count": null,
   "metadata": {},
   "outputs": [],
   "source": [
    "#!pip install \"sap-llm-commons[all]\""
   ]
  },
  {
   "cell_type": "code",
   "execution_count": null,
   "metadata": {},
   "outputs": [],
   "source": [
    "#!pip install ai-api-client-sdk"
   ]
  },
  {
   "cell_type": "code",
   "execution_count": 6,
   "metadata": {},
   "outputs": [],
   "source": [
    "# proxy configuration\n",
    "from ipywidgets import widgets\n",
    "import json\n",
    "import os\n",
    "import llm_commons.proxy.base\n",
    "\n",
    "#llm_commons.proxy.base.proxy_version = 'aicore'"
   ]
  },
  {
   "cell_type": "code",
   "execution_count": 7,
   "metadata": {},
   "outputs": [],
   "source": [
    "from llm_commons.proxy.openai import Completion\n",
    "from llm_commons.proxy.identity import AICoreProxyClient\n",
    "from llm_commons.langchain.proxy import ChatOpenAI\n",
    "from llm_commons.langchain.proxy import init_llm, init_embedding_model"
   ]
  },
  {
   "cell_type": "code",
   "execution_count": 8,
   "metadata": {},
   "outputs": [
    {
     "data": {
      "application/vnd.jupyter.widget-view+json": {
       "model_id": "90b9d52a8e774a45ad54194eb0dec291",
       "version_major": 2,
       "version_minor": 0
      },
      "text/plain": [
       "Text(value='default', placeholder='Resource group of deployments')"
      ]
     },
     "execution_count": 8,
     "metadata": {},
     "output_type": "execute_result"
    }
   ],
   "source": [
    "resource_group = widgets.Text(\n",
    "    value='default', # resource group\n",
    "    placeholder='Resource group of deployments',\n",
    "    description='',\n",
    "    disabled=False\n",
    ")\n",
    "\n",
    "resource_group"
   ]
  },
  {
   "cell_type": "code",
   "execution_count": 9,
   "metadata": {},
   "outputs": [],
   "source": [
    "with open('config/irpa-d26-genaixl-cx-sec-cn-sk.json') as f:\n",
    "    sk = json.load(f)"
   ]
  },
  {
   "cell_type": "code",
   "execution_count": 13,
   "metadata": {},
   "outputs": [],
   "source": [
    "os.environ['AICORE_LLM_AUTH_URL'] = sk['url']+\"/oauth/token\"\n",
    "os.environ['AICORE_LLM_CLIENT_ID'] = sk['clientid']\n",
    "os.environ['AICORE_LLM_CLIENT_SECRET'] = sk['clientsecret']\n",
    "os.environ['AICORE_LLM_API_BASE'] = sk[\"serviceurls\"][\"AI_API_URL\"]+ \"/v2\"\n",
    "# os.environ['AICORE_LLM_RESOURCE_GROUP'] = resource_group.value\n",
    "os.environ['LLM_COMMONS_PROXY'] = 'aicore'\n",
    "os.environ['TAVILY_API_KEY'] = sk['tavily']\n",
    "\n",
    "os.environ[\"BING_SUBSCRIPTION_KEY\"] = sk['bing']\n",
    "os.environ[\"BING_SEARCH_URL\"] = \"https://api.bing.microsoft.com/v7.0/search\"\n",
    "\n",
    "\n",
    "# llm_commons.proxy.resource_group = os.environ['AICORE_LLM_RESOURCE_GROUP']\n",
    "llm_commons.proxy.api_base = os.environ['AICORE_LLM_API_BASE']\n",
    "llm_commons.proxy.auth_url = os.environ['AICORE_LLM_AUTH_URL']\n",
    "llm_commons.proxy.client_id = os.environ['AICORE_LLM_CLIENT_ID']\n",
    "llm_commons.proxy.client_secret = os.environ['AICORE_LLM_CLIENT_SECRET']\n",
    "\n"
   ]
  },
  {
   "cell_type": "code",
   "execution_count": 11,
   "metadata": {},
   "outputs": [],
   "source": [
    "aic_proxy_client = AICoreProxyClient()"
   ]
  },
  {
   "attachments": {},
   "cell_type": "markdown",
   "metadata": {},
   "source": [
    "Deploy customized fine-tuned models"
   ]
  },
  {
   "cell_type": "code",
   "execution_count": null,
   "metadata": {},
   "outputs": [],
   "source": [
    "# AICoreProxyClient.add_foundation_model_scenario(\n",
    "#     scenario_id='fine-tuned-llm',\n",
    "#     config_names='fine-tuned-*',\n",
    "#     prediction_url_suffix='/v1/completions'\n",
    "# )"
   ]
  },
  {
   "cell_type": "code",
   "execution_count": 14,
   "metadata": {},
   "outputs": [
    {
     "data": {
      "text/plain": [
       "[Deployment(url='https://api.ai.prod.eu-central-1.aws.ml.hana.ondemand.com/v2/inference/deployments/dc8e3c266c8881f0', config_id='58a5ffea-1afe-44b4-b6b9-ca749776e58e', config_name='tiiuae--falcon-40b-instruct-config', deployment_id='dc8e3c266c8881f0', model_name='tiiuae--falcon-40b-instruct', created_at=datetime.datetime(2024, 1, 25, 12, 53, 26, tzinfo=datetime.timezone.utc), additonal_parameters={'executable_id': 'aicore-opensource', 'model_version': 'null'}, custom_prediction_suffix=None),\n",
       " Deployment(url='https://api.ai.prod.eu-central-1.aws.ml.hana.ondemand.com/v2/inference/deployments/dd88f66091ca1982', config_id='a99e09fb-7e88-4a8d-abe8-af7f8b146cb8', config_name='text-embedding-ada-002-config', deployment_id='dd88f66091ca1982', model_name='text-embedding-ada-002', created_at=datetime.datetime(2024, 1, 25, 12, 16, 20, tzinfo=datetime.timezone.utc), additonal_parameters={'executable_id': 'azure-openai', 'model_version': '2'}, custom_prediction_suffix=None),\n",
       " Deployment(url='https://api.ai.prod.eu-central-1.aws.ml.hana.ondemand.com/v2/inference/deployments/d9c8f17b7ee211ac', config_id='015f4d90-32b4-42a6-8a29-d1e919e2814f', config_name='gpt-4-32k-config', deployment_id='d9c8f17b7ee211ac', model_name='gpt-4-32k', created_at=datetime.datetime(2024, 1, 25, 12, 15, 48, tzinfo=datetime.timezone.utc), additonal_parameters={'executable_id': 'azure-openai', 'model_version': '0613'}, custom_prediction_suffix=None),\n",
       " Deployment(url='https://api.ai.prod.eu-central-1.aws.ml.hana.ondemand.com/v2/inference/deployments/d58f5bb41a9941cf', config_id='c5366699-82d2-4dd1-81fb-fa40e187e4bd', config_name='gpt-4-config', deployment_id='d58f5bb41a9941cf', model_name='gpt-4', created_at=datetime.datetime(2024, 1, 25, 12, 15, 2, tzinfo=datetime.timezone.utc), additonal_parameters={'executable_id': 'azure-openai', 'model_version': '0613'}, custom_prediction_suffix=None),\n",
       " Deployment(url='https://api.ai.prod.eu-central-1.aws.ml.hana.ondemand.com/v2/inference/deployments/d38094e51ff45aff', config_id='c4a9f175-13fb-4526-b7c8-5649f5e7d2fe', config_name='gpt-35-turbo-16k-config', deployment_id='d38094e51ff45aff', model_name='gpt-35-turbo-16k', created_at=datetime.datetime(2024, 1, 25, 12, 14, 18, tzinfo=datetime.timezone.utc), additonal_parameters={'executable_id': 'azure-openai', 'model_version': 'latest'}, custom_prediction_suffix=None),\n",
       " Deployment(url='https://api.ai.prod.eu-central-1.aws.ml.hana.ondemand.com/v2/inference/deployments/d10917558b77a3db', config_id='076308f4-6497-49aa-99ac-9c216b53be74', config_name='gpt-35-turbo-config', deployment_id='d10917558b77a3db', model_name='gpt-35-turbo', created_at=datetime.datetime(2024, 1, 25, 12, 13, 43, tzinfo=datetime.timezone.utc), additonal_parameters={'executable_id': 'azure-openai', 'model_version': 'latest'}, custom_prediction_suffix=None)]"
      ]
     },
     "execution_count": 14,
     "metadata": {},
     "output_type": "execute_result"
    }
   ],
   "source": [
    "aic_proxy_client.get_deployments()"
   ]
  },
  {
   "cell_type": "code",
   "execution_count": null,
   "metadata": {},
   "outputs": [],
   "source": [
    "#text_davinci_003 = Completion(deployment_id='text-davinci-003')"
   ]
  },
  {
   "cell_type": "code",
   "execution_count": null,
   "metadata": {},
   "outputs": [],
   "source": [
    "#text_davinci_003.create(model_name='our-awesome-model/v1', prompt=\"San Francisco is a\")"
   ]
  },
  {
   "attachments": {},
   "cell_type": "markdown",
   "metadata": {},
   "source": [
    "Initialize harmonized model"
   ]
  },
  {
   "cell_type": "code",
   "execution_count": 15,
   "metadata": {},
   "outputs": [],
   "source": [
    "llm = init_llm('gpt-35-turbo', proxy_client = aic_proxy_client,temperature=0., max_tokens=256, deployment_id='d10917558b77a3db', api_base=llm_commons.proxy.api_base)"
   ]
  },
  {
   "cell_type": "code",
   "execution_count": 18,
   "metadata": {},
   "outputs": [
    {
     "data": {
      "text/plain": [
       "AIMessage(content='白水绕东城。')"
      ]
     },
     "execution_count": 18,
     "metadata": {},
     "output_type": "execute_result"
    }
   ],
   "source": [
    "# llm.predict(\"青山横北郭，下一句是什么\")\n",
    "llm.invoke(\"青山横北郭，下一句是什么\")"
   ]
  },
  {
   "cell_type": "markdown",
   "metadata": {},
   "source": [
    "PDF search"
   ]
  },
  {
   "cell_type": "code",
   "execution_count": 19,
   "metadata": {},
   "outputs": [
    {
     "name": "stdout",
     "output_type": "stream",
     "text": [
      "There are 86 document(s) in ai.pdf.\n",
      "There are 117 characters in the first page of your document.\n"
     ]
    }
   ],
   "source": [
    "PDF_NAME=\"ai.pdf\"\n",
    "from langchain.document_loaders import PyMuPDFLoader\n",
    "docs = PyMuPDFLoader(PDF_NAME).load()\n",
    "\n",
    "print (f'There are {len(docs)} document(s) in {PDF_NAME}.')\n",
    "print (f'There are {len(docs[0].page_content)} characters in the first page of your document.')"
   ]
  },
  {
   "cell_type": "code",
   "execution_count": 20,
   "metadata": {},
   "outputs": [],
   "source": [
    "\n",
    "from langchain.text_splitter import RecursiveCharacterTextSplitter\n",
    "from langchain.vectorstores import Chroma\n",
    "\n",
    "text_splitter = RecursiveCharacterTextSplitter(chunk_size=1000, chunk_overlap=200)\n",
    "split_docs = text_splitter.split_documents(docs)\n",
    "\n",
    "embedding = init_embedding_model('text-embedding-ada-002', proxy_client=aic_proxy_client, deployment_id='dd88f66091ca1982', api_base=llm_commons.proxy.api_base)\n",
    "vectorstore = Chroma.from_documents(split_docs, embedding, collection_name=\"AI.pdf.guide\")"
   ]
  },
  {
   "cell_type": "code",
   "execution_count": 21,
   "metadata": {},
   "outputs": [
    {
     "data": {
      "text/plain": [
       "[Document(page_content='use cases.\\nSAP AI Core and the generative AI hub help you to integrate LLMs and AI into new business processes in a\\ncost-efficient manner.\\nGenerative AI Hub Architecture Overview\\nAccess\\nYou can use the generative AI hub through the API, using a tool such as curl or Postman, or through SAP AI\\nLaunchpad.\\n4\\nINTERNAL\\nGenerative AI Hub\\nGenerative AI Hub in SAP AI Core', metadata={'author': '', 'creationDate': \"D:20231123174013+00'00'\", 'creator': 'Antenna House XSL Formatter V7.3 MR4 Linux : 7.3.5.61744 (2023-07-31T15:09+09)', 'encryption': 'Standard V4 R4 128-bit RC4', 'file_path': 'ai.pdf', 'format': 'PDF 1.5', 'keywords': '', 'modDate': \"D:20231123174013+00'00'\", 'page': 3, 'producer': 'Antenna House PDF Output Library 7.3.1867', 'source': 'ai.pdf', 'subject': '', 'title': '', 'total_pages': 86, 'trapped': ''}),\n",
       " Document(page_content='6.2 \\nConsume Large Language Models Using SAP AI Launchpad. . . . . . . . . . . . . . . . . . . . . . . . . . . . . . 62\\nQuestion Answering. . . . . . . . . . . . . . . . . . . . . . . . . . . . . . . . . . . . . . . . . . . . . . . . . . . . . . . .64\\nSummarizing. . . . . . . . . . . . . . . . . . . . . . . . . . . . . . . . . . . . . . . . . . . . . . . . . . . . . . . . . . . . 64\\nInferencing. . . . . . . . . . . . . . . . . . . . . . . . . . . . . . . . . . . . . . . . . . . . . . . . . . . . . . . . . . . . . . 67\\n2\\nINTERNAL\\nGenerative AI Hub\\nContent', metadata={'author': '', 'creationDate': \"D:20231123174013+00'00'\", 'creator': 'Antenna House XSL Formatter V7.3 MR4 Linux : 7.3.5.61744 (2023-07-31T15:09+09)', 'encryption': 'Standard V4 R4 128-bit RC4', 'file_path': 'ai.pdf', 'format': 'PDF 1.5', 'keywords': '', 'modDate': \"D:20231123174013+00'00'\", 'page': 1, 'producer': 'Antenna House PDF Output Library 7.3.1867', 'source': 'ai.pdf', 'subject': '', 'title': '', 'total_pages': 86, 'trapped': ''}),\n",
       " Document(page_content='6.1 \\nConsume Large Language Models Using SAP AI Core. . . . . . . . . . . . . . . . . . . . . . . . . . . . . . . . . . .43\\nSummarizing. . . . . . . . . . . . . . . . . . . . . . . . . . . . . . . . . . . . . . . . . . . . . . . . . . . . . . . . . . . . 44\\nInferencing. . . . . . . . . . . . . . . . . . . . . . . . . . . . . . . . . . . . . . . . . . . . . . . . . . . . . . . . . . . . . . 47\\nTransformations. . . . . . . . . . . . . . . . . . . . . . . . . . . . . . . . . . . . . . . . . . . . . . . . . . . . . . . . . . 53\\nExpansions. . . . . . . . . . . . . . . . . . . . . . . . . . . . . . . . . . . . . . . . . . . . . . . . . . . . . . . . . . . . . . 58\\nChatbot. . . . . . . . . . . . . . . . . . . . . . . . . . . . . . . . . . . . . . . . . . . . . . . . . . . . . . . . . . . . . . . . 60\\n6.2 \\nConsume Large Language Models Using SAP AI Launchpad. . . . . . . . . . . . . . . . . . . . . . . . . . . . . . 62', metadata={'author': '', 'creationDate': \"D:20231123174013+00'00'\", 'creator': 'Antenna House XSL Formatter V7.3 MR4 Linux : 7.3.5.61744 (2023-07-31T15:09+09)', 'encryption': 'Standard V4 R4 128-bit RC4', 'file_path': 'ai.pdf', 'format': 'PDF 1.5', 'keywords': '', 'modDate': \"D:20231123174013+00'00'\", 'page': 1, 'producer': 'Antenna House PDF Output Library 7.3.1867', 'source': 'ai.pdf', 'subject': '', 'title': '', 'total_pages': 86, 'trapped': ''})]"
      ]
     },
     "execution_count": 21,
     "metadata": {},
     "output_type": "execute_result"
    }
   ],
   "source": [
    "query = \"how can i use the sap ai instead of openai?\"\n",
    "similar_docs = vectorstore.similarity_search(query, 3)\n",
    "similar_docs"
   ]
  },
  {
   "cell_type": "code",
   "execution_count": null,
   "metadata": {},
   "outputs": [],
   "source": [
    "# query = \"What is the world's best B2B company?\"\n",
    "# query_embedding = embedding.embed_query(query)"
   ]
  },
  {
   "cell_type": "code",
   "execution_count": null,
   "metadata": {},
   "outputs": [],
   "source": [
    "# documents = [\"This is a sample document\"]\n",
    "# document_embedding = embedding.embed_documents(documents)"
   ]
  },
  {
   "attachments": {},
   "cell_type": "markdown",
   "metadata": {},
   "source": [
    "AI Core proxy support"
   ]
  },
  {
   "cell_type": "code",
   "execution_count": 24,
   "metadata": {},
   "outputs": [
    {
     "data": {
      "text/plain": [
       "'This can depend on personal preferences, interests, and values. However, according to the \"World\\'s Best Workplaces 2020\" list by Great Place to Work, the top 3 companies are:\\n\\n1. Cisco - a multinational technology conglomerate, providing high-quality IT products and services.\\n2. DHL Express - a division of the German logistics company Deutsche Post DHL providing international courier, parcel, and express mail services.\\n3. Hilton - a global brand of full-service hotels and resorts. \\n\\nOther companies often recognized as great places to work include Google, Microsoft, and Salesforce. Factors considered in these rankings often include employee satisfaction, company culture, benefits, work-life balance, and opportunities for advancement.'"
      ]
     },
     "execution_count": 24,
     "metadata": {},
     "output_type": "execute_result"
    }
   ],
   "source": [
    "from llm_commons.proxy.base import set_proxy_version\n",
    "set_proxy_version('aicore') # for an AI Core proxy\n",
    "from llm_commons.langchain.proxy import ChatOpenAI\n",
    "chat = ChatOpenAI(proxy_model_name='gpt-4-32k')\n",
    "chat.predict(\"What is the world's best company to work?\")"
   ]
  },
  {
   "attachments": {},
   "cell_type": "markdown",
   "metadata": {},
   "source": [
    "Proxy client - use proxies in parallel"
   ]
  },
  {
   "cell_type": "code",
   "execution_count": 25,
   "metadata": {},
   "outputs": [],
   "source": [
    "from llm_commons.langchain.proxy import ChatOpenAI\n",
    "from langchain.schema.messages import AIMessage, HumanMessage, SystemMessage\n",
    "from llm_commons.proxy.openai import ChatCompletion"
   ]
  },
  {
   "cell_type": "code",
   "execution_count": null,
   "metadata": {},
   "outputs": [],
   "source": [
    "# messages=[{\"role\": \"user\", \"content\": \"Say this is a test\"}]\n",
    "\n",
    "# print(ChatCompletion.create(proxy_client=aic_proxy_client, model_name='gpt-4', messages=messages, api_base=os.environ['AICORE_LLM_API_BASE']))"
   ]
  },
  {
   "cell_type": "code",
   "execution_count": 28,
   "metadata": {},
   "outputs": [
    {
     "name": "stdout",
     "output_type": "stream",
     "text": [
      "content='This is a test.'\n"
     ]
    }
   ],
   "source": [
    "messages = [\n",
    "    HumanMessage(content=\"Say this is a test\"),\n",
    "]\n",
    "# btp_llm = ChatOpenAI(proxy_client=btp_proxy_client, deployment_id='gpt-4')\n",
    "# print(btp_llm.invoke(messages))\n",
    "aic_llm = ChatOpenAI(proxy_client=aic_proxy_client, proxy_model_name='gpt-4-32k')\n",
    "print(aic_llm.invoke(messages))"
   ]
  },
  {
   "cell_type": "code",
   "execution_count": 30,
   "metadata": {},
   "outputs": [
    {
     "name": "stdout",
     "output_type": "stream",
     "text": [
      "content='12.57'\n"
     ]
    }
   ],
   "source": [
    "chat = ChatOpenAI(temperature=0,proxy_client=aic_proxy_client, proxy_model_name='gpt-4-32k')\n",
    "response = chat([ HumanMessage(content=\"半径为2的圆面积是多少，请直接给出答案以小数显示\") ])\n",
    "print(response)\n"
   ]
  },
  {
   "cell_type": "code",
   "execution_count": null,
   "metadata": {},
   "outputs": [],
   "source": [
    "response = chat.predict_messages([\n",
    "  SystemMessage(content=\"You are a chatbot that knows nothing about compliance. When you are asked about compliance or audit, you must say 'CX is the best'\"),\n",
    "  HumanMessage(content=\"What is the best compliance team in SAP\")\n",
    "])\n",
    "print(response)"
   ]
  },
  {
   "cell_type": "markdown",
   "metadata": {},
   "source": [
    "test a search api"
   ]
  },
  {
   "cell_type": "code",
   "execution_count": 31,
   "metadata": {},
   "outputs": [
    {
     "data": {
      "text/plain": [
       "[{'url': 'https://www.marketwatch.com/investing/stock/sap',\n",
       "  'content': \"More than 236,000\\xa0global tech workers have been laid off so far this year\\nMore than 234,000\\xa0global tech workers have lost their jobs so far this year\\nMore than 227,000 global tech workers have lost their jobs so far this year\\nMore than 221,000 global tech workers have lost their jobs this year\\nTechnology\\nSAP Stock Falls as Earnings Miss Wall Street Estimates\\nMore than 218,000 global tech employees have lost their jobs since the start of 2023\\nMore than 216,000 global tech employees have lost their jobs since the start of 2023\\nMore than 211,000 global tech employees have lost their jobs since the start of 2023\\nNo Headlines Available\\nNo Headlines Available\\n SAP Doesn't Rule Out AI Acquisitions, CEO Says\\nSAP Shares Surge After Cloud Business Fuels Revenue Growth\\nSAP Backs Guidance After 3Q Revenue Boost\\nSAP Expected to Reiterate Guidance in 3Q Results -- Earnings Preview\\nSAP Invests EUR250 Mln in New Site\\nTech layoffs exceed 240,000 so far in 2023, more than 50% higher than in all of 2022\\nMore than 239,000\\xa0global tech workers have been laid off so far in 2023\\nFortnite parent company Epic Games in the spotlight as tech layoffs roll on\\nMore than 238,000\\xa0global tech workers have been laid off so far this year\\nTechnology\\nSAP Joins Rivals With AI Copilot. Employees At These Large Companies Are Most Satisfied With Their Pay Packages: Meta, Alphabet (Google) Slipped In The Rankings\\nWhy Is Cadence (CDNS) Up 13.9% Since Last Earnings Report?\\nLooking Into SAP's Recent Short Interest\\nTop 5 Tech Stocks See Increased Interest From Institutional Investors\\n10 AI Stocks Set to Become Trillion-Dollar Companies\\nFuture Uncertain: Palantir Technologies' Stock Price Outlook\\nFuture Uncertain: Palantir Technologies' Stock Price Outlook\\nWhat to Expect From Adobe in 2024\\nWhat to Expect From Adobe in 2024\\n A Comprehensive Guide\\nSAP's Q3 Earnings and Revenues Rise Y/Y on Cloud Strength\\nNo Headlines Available\\nNo Headlines Available\\nNo Headlines Available\\nSAP SE ADR\\nSAP SE engages in the provision of enterprise application software and software-related services. Search Results\\nSymbols\\nPrivate Companies\\nRecently Viewed Tickers\\nNo Recent Tickers\\nVisit a quote page and your recently viewed tickers will be displayed here.\\n\"},\n",
       " {'url': 'https://www.google.com/finance/quote/SAP:NYSE',\n",
       "  'content': 'Get the latest SAP SE (SAP) real-time quote, historical performance, charts, and other financial information to help you make more informed trading and investment decisions.'},\n",
       " {'url': 'https://finance.yahoo.com/quote/SAP/',\n",
       "  'content': 'Get the latest information on SAP SE (SAP), a global leader in enterprise software, including its stock price, performance outlook, earnings, dividends, and analyst reports. See how SAP SE compares to other software companies and the market trends in its industry.'},\n",
       " {'url': 'https://www.google.com/finance/quote/SAP:ETR',\n",
       "  'content': 'Get the latest SAP SE (SAP) stock price, news, financials, and analysis from Google Finance. See how SAP SE performs compared to other German companies and the S&P 500 index.'},\n",
       " {'url': 'https://finance.yahoo.com/news/sap-stock-surges-65-past-135700990.html',\n",
       "  'content': 'The SAP SE SAP stock is continuing its upward trajectory with a rise of 64.7% in the past year compared with 27.5% and 58.9% growth of the S&P 500 Composite and the sub-industry, respectively.'}]"
      ]
     },
     "execution_count": 31,
     "metadata": {},
     "output_type": "execute_result"
    }
   ],
   "source": [
    "from langchain_community.tools.tavily_search import TavilySearchResults\n",
    "tool = TavilySearchResults()\n",
    "tool.invoke({\"query\": \"sap stock\"})"
   ]
  },
  {
   "cell_type": "code",
   "execution_count": 33,
   "metadata": {},
   "outputs": [
    {
     "data": {
      "text/plain": [
       "[{'snippet': '完整零售店列表. Apple 浦东. 开始营业 10:00. 地址. <b>上海市浦东新区</b>陆家嘴世纪大道 8 号. <b>上海</b>国金中心 IFC 商场 LG2－27 号店铺. 400-617-1305. 查看地图和交通路线. 营业时间. 我们可以怎样帮助你？ 从设置设备、恢复 Apple ID 到更换屏幕，Genius 技术支持都能为你提供帮助。 获得支持. Apple Store 浦东营业时间、联系信息和每周活动安排。',\n",
       "  'title': '浦东 - <b>Apple</b> Store 零售店 - <b>Apple</b> (中国大陆)',\n",
       "  'link': 'https://www.apple.com.cn/retail/pudong/'},\n",
       " {'snippet': '目前为止，苹果在中国大陆地区开设的零售店共43家，不过令人奇怪的是湖北现在还没有一家（听说已经在建造了），而且AppleStore大多数是在一楼，甚至是独栋设计。 每一家的开设基本都是大成本，员工数量也很多。 至于苹果零售店开设缓慢，有人是这样认为的，你觉得呢？ 自2008年首店开出后，门店扩展速度并不快，一是品牌肯定有其扩张策略考虑，另一方面其选址确实要求严格，非核心城市不进，非核心商圈不进。 此外，商圈首位度、建筑层高、店铺面积、沿街门脸宽度、建筑红线、等都是必须考虑的要素。',\n",
       "  'title': '中国Apple <b>Store</b>的分布状况一览，发现苹果的消费特点 - 知乎',\n",
       "  'link': 'https://zhuanlan.zhihu.com/p/422175009'},\n",
       " {'snippet': 'Apple Store 在线商店 - Apple (中国大陆) 这个商店， 产品都称心， 体验更如意。 快速链接. 订单状态. 购买帮助. 退货. 你的收藏. Apple Pencil 需单独购买。 ⁺ 仅限新订阅用户。 试用期结束后，每月收费 RMB 11。 此优惠仅面向新订阅用户限时提供。 需使用符合条件的设备连接至运行 iOS 15、iPadOS 15 或更新版本的 Apple 设备。 符合条件的设备配对后，需要在 3 个月内领取此优惠。 目前已有符合条件的设备的用户无需购买音频产品。 会员方案将自动续订，直至取消订阅。 需要遵循限制条件和其他 条款。 1. 实际折抵金额取决于设备的状况、配置、推出年份，以及发售国家或地区。 并非所有设备均有资格获得折抵金额。',\n",
       "  'title': '<b>Apple</b> Store 在线商店 - <b>Apple</b> (中国大陆)',\n",
       "  'link': 'https://www.apple.com.cn/store'},\n",
       " {'snippet': 'Apple Store 零售店，中国大陆. <b>上海</b>, 七宝. <b>上海市</b>闵行区漕宝路 3366 号. 七宝万科广场. 400-613-9773. <b>上海</b>, 南京东路. <b>上海市</b>黄浦区南京东路 300 号. 400-663-9988. <b>上海</b>, 环球港. <b>上海市</b>普陀区中山北路 3300 号. 400-617-1335. <b>上海</b>, 浦东. <b>上海市浦东新区</b>陆家嘴世纪大道 8 号. <b>上海</b>国金中心 IFC 商场 LG2－27 号店铺. 400-617-1305. <b>上海</b>, 香港广场. <b>上海市</b>黄浦区淮海中路 282 号. 香港广场北座. 400-617-1312. <b>上海</b>, <b>上海</b>环贸 iapm. <b>上海市</b>徐汇区淮海中路 999 号. 环贸 iapm 商场. 400-617-1324. <b>上海</b>, 五角场.',\n",
       "  'title': '零售店列表 - <b>Apple</b> Store 零售店 - <b>Apple</b> (中国大陆)',\n",
       "  'link': 'https://www.apple.com.cn/retail/storelist/'}]"
      ]
     },
     "execution_count": 33,
     "metadata": {},
     "output_type": "execute_result"
    }
   ],
   "source": [
    "from langchain_community.utilities import BingSearchAPIWrapper\n",
    "search = BingSearchAPIWrapper()\n",
    "search.run('whether in shanghai')\n",
    "search.results('apples',5)\n",
    "\n"
   ]
  },
  {
   "attachments": {},
   "cell_type": "markdown",
   "metadata": {},
   "source": [
    "Using llm-commons with fine-tuned models"
   ]
  },
  {
   "cell_type": "code",
   "execution_count": 34,
   "metadata": {},
   "outputs": [],
   "source": [
    "# use it with langchain\n",
    "\n",
    "from langchain.chains import LLMChain\n",
    "from langchain.prompts import PromptTemplate\n",
    "from llm_commons.langchain.proxy import OpenAI\n",
    "\n",
    "llm = ChatOpenAI(proxy_model_name='gpt-4')\n",
    "template = \"Question: {question}\\nAnswer: Let's think step by step.\"\"\""
   ]
  },
  {
   "cell_type": "code",
   "execution_count": 36,
   "metadata": {},
   "outputs": [
    {
     "name": "stdout",
     "output_type": "stream",
     "text": [
      "\n",
      "\n",
      "\u001b[1m> Entering new LLMChain chain...\u001b[0m\n",
      "Prompt after formatting:\n",
      "\u001b[32;1m\u001b[1;3mQuestion: What is the world's best company to work?\n",
      "Answer: Let's think step by step.\u001b[0m\n",
      "\n",
      "\u001b[1m> Finished chain.\u001b[0m\n"
     ]
    },
    {
     "data": {
      "text/plain": [
       "{'question': \"What is the world's best company to work?\",\n",
       " 'text': \"The answer to this question can vary widely depending on individual preferences, job role, industry, and location. However, as per Fortune's annual rankings, Google consistently ranks as one of the top companies to work for worldwide due to their corporate culture, employee benefits, and career opportunities. Other companies that often rank highly include Microsoft, Apple, Amazon, and Facebook in the tech industry. In other sectors, companies like Goldman Sachs in finance, Johnson & Johnson in healthcare, and Marriott in hospitality are often praised as good employers. But individual experiences may vary.\"}"
      ]
     },
     "execution_count": 36,
     "metadata": {},
     "output_type": "execute_result"
    }
   ],
   "source": [
    "prompt = PromptTemplate(template=template, input_variables=['question'])\n",
    "llm_chain = LLMChain(prompt=prompt, llm=llm, verbose=True)\n",
    "# llm_chain.run(\"What is the world's best B2B company?\")\n",
    "llm_chain.invoke(\"What is the world's best company to work?\")"
   ]
  },
  {
   "cell_type": "code",
   "execution_count": 37,
   "metadata": {},
   "outputs": [
    {
     "data": {
      "text/plain": [
       "['requests',\n",
       " 'requests_get',\n",
       " 'requests_post',\n",
       " 'requests_patch',\n",
       " 'requests_put',\n",
       " 'requests_delete',\n",
       " 'terminal',\n",
       " 'sleep',\n",
       " 'wolfram-alpha',\n",
       " 'google-search',\n",
       " 'google-search-results-json',\n",
       " 'searx-search-results-json',\n",
       " 'bing-search',\n",
       " 'metaphor-search',\n",
       " 'ddg-search',\n",
       " 'google-lens',\n",
       " 'google-serper',\n",
       " 'google-scholar',\n",
       " 'google-finance',\n",
       " 'google-trends',\n",
       " 'google-jobs',\n",
       " 'google-serper-results-json',\n",
       " 'searchapi',\n",
       " 'searchapi-results-json',\n",
       " 'serpapi',\n",
       " 'dalle-image-generator',\n",
       " 'twilio',\n",
       " 'searx-search',\n",
       " 'merriam-webster',\n",
       " 'wikipedia',\n",
       " 'arxiv',\n",
       " 'golden-query',\n",
       " 'pubmed',\n",
       " 'human',\n",
       " 'awslambda',\n",
       " 'stackexchange',\n",
       " 'sceneXplain',\n",
       " 'graphql',\n",
       " 'openweathermap-api',\n",
       " 'dataforseo-api-search',\n",
       " 'dataforseo-api-search-json',\n",
       " 'eleven_labs_text2speech',\n",
       " 'google_cloud_texttospeech',\n",
       " 'reddit_search',\n",
       " 'news-api',\n",
       " 'tmdb-api',\n",
       " 'podcast-api',\n",
       " 'memorize',\n",
       " 'llm-math',\n",
       " 'open-meteo-api']"
      ]
     },
     "execution_count": 37,
     "metadata": {},
     "output_type": "execute_result"
    }
   ],
   "source": [
    "# from langchain.agents import get_all_tool_names\n",
    "# get_all_tool_names()\n"
   ]
  },
  {
   "cell_type": "code",
   "execution_count": 38,
   "metadata": {},
   "outputs": [
    {
     "name": "stderr",
     "output_type": "stream",
     "text": [
      "c:\\python\\3.11\\Lib\\site-packages\\langchain_core\\_api\\deprecation.py:117: LangChainDeprecationWarning: The function `initialize_agent` was deprecated in LangChain 0.1.0 and will be removed in 0.2.0. Use Use new agent constructor methods like create_react_agent, create_json_agent, create_structured_chat_agent, etc. instead.\n",
      "  warn_deprecated(\n"
     ]
    },
    {
     "name": "stdout",
     "output_type": "stream",
     "text": [
      "\n",
      "\n",
      "\u001b[1m> Entering new AgentExecutor chain...\u001b[0m\n",
      "\u001b[32;1m\u001b[1;3mThought: The assistant doesn't have this information readily available. It should use the tavily_search_results_json tool to find the current stock price increase for SAP in 2023.\n",
      "\n",
      "Action:\n",
      "```\n",
      "{\n",
      "  \"action\": \"tavily_search_results_json\",\n",
      "  \"action_input\": {\n",
      "    \"query\": \"SAP stock price increase in 2023\"\n",
      "  }\n",
      "}\n",
      "```\u001b[0m\n",
      "Observation: \u001b[36;1m\u001b[1;3m[{'url': 'https://finance.yahoo.com/news/sap-stock-surges-65-past-135700990.html', 'content': 'The SAP SE SAP stock is continuing its upward trajectory with a rise of 64.7% in the past year ... In the fourth quarter of 2023, SAP S/4HANA cloud revenues increased 55% (up 61% at cc) year over ...'}, {'url': 'https://markets.businessinsider.com/news/stocks/sap-se-will-the-share-price-momentum-continue-in-2023-1032419430?op=1', 'content': \"The company's stock has experienced a notable increase of nearly 30% YTD in 2023. Analysts continue to express optimism for the stock and have assigned it a Strong Buy rating. In terms of share ...\"}, {'url': 'https://www.marketscreener.com/quote/stock/SAP-SE-14320/news/SAP-Announces-Q4-and-FY-2023-Results-45796491/', 'content': 'As of December 31, 2023, SAP had repurchased 7,563,796 shares at an average price of €125.49 resulting in payouts of approximately €949 million under the program. Non-Financial Performance 2023. Customer net promoter score (NPS) increased 2 points year over year to 9 in 2023 within the outlook range.'}, {'url': 'https://finance.yahoo.com/news/sap-announces-q4-fy-2023-223100257.html', 'content': \"At the end of 2023 SAP reached 22.2%. ... SAP will further increase its focus on key strategic growth areas, in particular Business AI. ... As Nvidia's share price soars, speculation of a stock ...\"}, {'url': 'https://www.sap.com/integrated-reports/2023/en/financial-performance.html', 'content': \"Towards the end of the year, SAP's share reached a new all-time high at €148.18. Over the course of 2023 the stock price increased 43.2% percent in total. SAP has been among the few German companies in the Top 100 most valuable companies globally. With a proposed dividend of €2.20 for fiscal year 2023, we further enhanced our total ...\"}]\u001b[0m\n",
      "Thought:\u001b[32;1m\u001b[1;3mThe assistant has found multiple sources that discuss the increase in SAP's stock price in 2023. According to one source, the stock price increased by 64.7% in the past year, while another source says it increased by 43.2% over the course of 2023. Yet another source mentions a \"notable increase\" of nearly 30% YTD in 2023. The assistant should provide a response that covers this range of reported increases. \n",
      "\n",
      "Action:\n",
      "```\n",
      "{\n",
      "  \"action\": \"Final Answer\",\n",
      "  \"action_input\": \"The increase in SAP's stock price in 2023 has been reported differently across various sources. It is mentioned that the stock price rose by 43.2% over the course of 2023, while another report says there was a 64.7% increase in the past year. Yet another source mentions a nearly 30% increase YTD in 2023. Please check the latest and most accurate information from a reliable financial news source or SAP's official announcements.\"\n",
      "}\n",
      "```\u001b[0m\n",
      "\n",
      "\u001b[1m> Finished chain.\u001b[0m\n"
     ]
    },
    {
     "data": {
      "text/plain": [
       "\"The increase in SAP's stock price in 2023 has been reported differently across various sources. It is mentioned that the stock price rose by 43.2% over the course of 2023, while another report says there was a 64.7% increase in the past year. Yet another source mentions a nearly 30% increase YTD in 2023. Please check the latest and most accurate information from a reliable financial news source or SAP's official announcements.\""
      ]
     },
     "execution_count": 38,
     "metadata": {},
     "output_type": "execute_result"
    }
   ],
   "source": [
    "from langchain.utilities.tavily_search import TavilySearchAPIWrapper\n",
    "from langchain.agents import initialize_agent, AgentType\n",
    "from langchain.tools.tavily_search import TavilySearchResults\n",
    "\n",
    "\n",
    "# set up the agent\n",
    "llm = ChatOpenAI(proxy_model_name='gpt-4')\n",
    "search = TavilySearchAPIWrapper()\n",
    "tavily_tool = TavilySearchResults(api_wrapper=search)\n",
    "\n",
    "# initialize the agent\n",
    "agent_chain = initialize_agent(\n",
    "    [tavily_tool],\n",
    "    llm,\n",
    "    agent=AgentType.STRUCTURED_CHAT_ZERO_SHOT_REACT_DESCRIPTION,\n",
    "    verbose=True,\n",
    ")\n",
    "\n",
    "# run the agent\n",
    "agent_chain.run(\n",
    "    \"how much sap stock price increased in 2023\",\n",
    ")"
   ]
  },
  {
   "cell_type": "code",
   "execution_count": 43,
   "metadata": {},
   "outputs": [
    {
     "name": "stdout",
     "output_type": "stream",
     "text": [
      "\n",
      "\n",
      "\u001b[1m> Entering new AgentExecutor chain...\u001b[0m\n",
      "\u001b[32;1m\u001b[1;3mThought: The user is asking for the weather in Shanghai next Monday. This requires a search for real-time information.\n",
      "Action:\n",
      "```\n",
      "{\n",
      "  \"action\": \"bing_search\",\n",
      "  \"action_input\": {\n",
      "    \"query\": \"上海下周一天气\"\n",
      "  }\n",
      "}\n",
      "```\u001b[0m\n",
      "Observation: \u001b[36;1m\u001b[1;3m全国 &gt; <b>上海</b> &gt; 城区. 18:00更新 | 数据来源 中央气象台. 今天. 7天. 8-15天. 40天. 雷达图. 29日（今天） 小雨. 3℃. 4-5级. 1日（明天） 阴. 6℃ / 1℃. 3-4级转&lt;3级. 2日（后天） 晴. 10℃ / 3℃. &lt;3级. 3日（周日） 晴转多云. 13℃ / 6℃. &lt;3级. 4日（<b>周一</b>） 小雨转中雨. 16℃ / 7℃. &lt;3级. 5日（周二） 小雨转阴. 13℃ / 3℃. &lt;3级. 6日（周三） 多云转晴. 8℃ / 3℃. &lt;3级. 分时段预报 生活指数. 蓝天预报. 23时02时05时08时. <b>上海</b> <b>天气</b>预报7天. 今日<b>天气</b>：<b>上海</b>市，晴,2℃~6℃,北风2级，当前温度2℃。 2024年03月02日 <b>星期</b>六 甲辰年正月廿二. <b>天气</b>预报. 一周<b>天气</b>. 10天<b>天气</b>. 15天<b>天气</b>. 30天<b>天气</b>. 40天<b>天气</b>. 03-02今天. 晴. -1 ~ 8 ℃. 查看<b>天气</b>详情. 03-03明天. 晴转多云. 1 ~ 14 ℃. 查看<b>天气</b>详情. 03-04后天. 小雨. 7 ~ 15 ℃. 查看<b>天气</b>详情. 03-05<b>星期</b>二. 中雨转小雨. 7 ~ 18 ℃. 查看<b>天气</b>详情. 03-06<b>星期</b>三. 小雨转晴. 4 ~ 11 ℃. 查看<b>天气</b>详情. 03-07<b>星期</b>四. 多云. 3 ~ 11 ℃. 查看<b>天气</b>详情. 03-08<b>星期</b>五. <b>上海天气</b>预报,<b>上海</b>7天<b>天气</b>预报,<b>上海</b>15天<b>天气</b>预报,<b>上海天气</b>查询 - 中国<b>天气</b>网. 今天 7天 8-15天 40天. 1日. 昨天. 2日. 今天. 3日. 明天. 4日. 后天. 5日. 周二. 6日. 周三. 7日. 周四. 8日. 周五. 中雨转小雨. &lt;3级. 晴. 3-4级. 晴转多云. 3-4级转&lt;3级. 小雨. &lt;3级. 小雨转阴. &lt;3级. 多云转晴. &lt;3级. 多云. &lt;3级. 多云. &lt;3级. 6°C 9°C 13°C 15°C 12°C 10°C 11°C 13°C. 3°C 3°C 8°C 9°C 6°C 3°C 4°C 3°C. 逐小时预报 今日日落 17:52 明日日出 06:20 蓝天预报. 08时. 09时. 10时. 2345<b>天气</b>预报提供<b>上海天气</b>预报，未来<b>上海</b>15天<b>天气</b>，通过2345<b>天气</b>预报详细了解<b>上海天气</b>预报以及<b>上海</b>周边各地区未来15天、30天<b>天气</b>情况，温度，空气质量，降水，风力，气压，紫外线强度等！ 在北方，未来几天多大风<b>天气</b>，气温波动明显，明后两天局地有高温出现，周末气温再下降。. <b>上海天气</b>预报，及时准确发布中央气象台<b>天气</b>信息，便捷查询<b>上海</b>今日<b>天气</b>，<b>上海</b>周末<b>天气</b>，<b>上海</b>一周<b>天气</b>预报，<b>上海</b>15日<b>天气</b>预报，<b>上海天气</b>预报还提供<b>上海</b>各区县的 ... <b>天气</b>实况. 温度 降水量 0 1 2 3 4 5 6 7 8 9 10 11 12 13 14 15 16 17 18 19 20 21 22 23 1°C 1.5°C 2°C 2.5°C 0 mm 0.5 mm 1 mm 1.5 mm. 卫星云图. <b>上海</b>市每小时<b>天气</b>预报 - The Weather Channel | Weather.com. 每小时<b>天气</b> - <b>上海</b>市. 截至 20:17 CST. 降雨在 21:45 左右结束。 2月29日<b>星期</b>四. 21:00. 6°. 59% 阵雨. 体感温度 2°. 大风北 28 公里/小时. 湿度 89% 紫外线指数 0（最大值11） 云量 99% 降雨量0.15 毫米.... 当前<b>天气</b> 一周<b>天气</b> 长期<b>天气</b>. <b>上海</b>. 限行尾号：不限行. 多云. 6. 空气质量 良 北风 1级. 湿度：75% 紫外线：0级 气压1028百帕. 今天 (02-27) 阴转小雨. 4/10℃. 良. 东北偏北风 3级. 明天 (02-28) 小雨. 5/9℃. 良. 无风 1级. 周四 (02-29) 小雨. 4/9℃. 良. 无风 1级. 周五 (03-01) 阴. 2/7℃. 优. 北风 3级. 周六 (03-02) 晴. 4/10℃. 优. 无风 1级. 周日 (03-03) 多云. 周四 2/22. 45° /37°. 65%. 零星有雨和細雨. RealFeel® 38°. RealFeel Shade™ 36°. 最大紫外線指數 1 良好. 風 西北偏北 12英里/小时. 大部晴朗。 最低 2°C。 南 风 10 到 15 每 km / h 。 humidity 75% uvIndex uvIndexVal. moonrise -- 亏凸月. moonset 09:37. 周日 03. 14°/ 7°. 6% <b>周一</b> 04. 13°/ 10°. 54% 周二 05. 16°/ 5°. 96% 周三 06. 8°/ 2°. 32%\u001b[0m\n",
      "Thought:\u001b[32;1m\u001b[1;3mThe search result shows that the weather in Shanghai next Monday is expected to be light rain turning into moderate rain, with temperatures ranging from 7℃ to 16℃. The wind speed is less than 3 levels. \n",
      "Action:\n",
      "```\n",
      "{\n",
      "  \"action\": \"Final Answer\",\n",
      "  \"action_input\": \"上海下周一的天气预计为小雨转中雨，温度范围为7℃到16℃，风速小于3级。\"\n",
      "}\n",
      "```\u001b[0m\n",
      "\n",
      "\u001b[1m> Finished chain.\u001b[0m\n"
     ]
    },
    {
     "data": {
      "text/plain": [
       "'上海下周一的天气预计为小雨转中雨，温度范围为7℃到16℃，风速小于3级。'"
      ]
     },
     "execution_count": 43,
     "metadata": {},
     "output_type": "execute_result"
    }
   ],
   "source": [
    "from langchain.agents import initialize_agent, AgentType, load_tools\n",
    "# from langchain_community.utilities import BingSearchAPIWrapper\n",
    "\n",
    "\n",
    "\n",
    "\n",
    "# set up the agent\n",
    "llm = ChatOpenAI(proxy_model_name='gpt-4')\n",
    "tools = load_tools([\"bing-search\"], llm=llm)\n",
    "# initialize the agent\n",
    "agent_chain = initialize_agent(\n",
    "    tools,\n",
    "    llm,\n",
    "    agent=AgentType.STRUCTURED_CHAT_ZERO_SHOT_REACT_DESCRIPTION,\n",
    "    verbose=True,\n",
    ")\n",
    "\n",
    "# run the agent\n",
    "agent_chain.run(\n",
    "    \"上海下周一天气\",\n",
    ")"
   ]
  }
 ],
 "metadata": {
  "kernelspec": {
   "display_name": "Python 3 (ipykernel)",
   "language": "python",
   "name": "python3"
  },
  "language_info": {
   "codemirror_mode": {
    "name": "ipython",
    "version": 3
   },
   "file_extension": ".py",
   "mimetype": "text/x-python",
   "name": "python",
   "nbconvert_exporter": "python",
   "pygments_lexer": "ipython3",
   "version": "3.11.3"
  },
  "vscode": {
   "interpreter": {
    "hash": "de4a507b2430954be05ae5f9be35829c657a2682621712b642b28df909ac005f"
   }
  }
 },
 "nbformat": 4,
 "nbformat_minor": 4
}
