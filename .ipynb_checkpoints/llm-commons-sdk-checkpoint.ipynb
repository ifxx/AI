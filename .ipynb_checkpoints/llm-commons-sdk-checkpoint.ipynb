{
 "cells": [
  {
   "cell_type": "code",
   "execution_count": 1,
   "metadata": {},
   "outputs": [
    {
     "name": "stdout",
     "output_type": "stream",
     "text": [
      "Looking in indexes: https://pypi.org/simple, https://int.repositories.cloud.sap/artifactory/api/pypi/proxy-deploy-releases-hyperspace-pypi/simple\n",
      "Requirement already satisfied: sap-llm-commons[all] in /Users/i536097/anaconda3/lib/python3.10/site-packages (0.1.7)\n",
      "Requirement already satisfied: cohere>=4.27 in /Users/i536097/anaconda3/lib/python3.10/site-packages (from sap-llm-commons[all]) (4.37)\n",
      "Requirement already satisfied: text-generation>=0.6.0 in /Users/i536097/anaconda3/lib/python3.10/site-packages (from sap-llm-commons[all]) (0.6.1)\n",
      "Requirement already satisfied: ai-core-sdk in /Users/i536097/anaconda3/lib/python3.10/site-packages (from sap-llm-commons[all]) (1.22.3)\n",
      "Requirement already satisfied: omegaconf in /Users/i536097/anaconda3/lib/python3.10/site-packages (from sap-llm-commons[all]) (2.3.0)\n",
      "Requirement already satisfied: openai<1 in /Users/i536097/anaconda3/lib/python3.10/site-packages (from sap-llm-commons[all]) (0.28.0)\n",
      "Requirement already satisfied: aleph-alpha-client in /Users/i536097/anaconda3/lib/python3.10/site-packages (from sap-llm-commons[all]) (5.0.0)\n",
      "Requirement already satisfied: langchain[openai]<=0.0.335,>=0.0.331 in /Users/i536097/anaconda3/lib/python3.10/site-packages (from sap-llm-commons[all]) (0.0.335)\n",
      "Requirement already satisfied: click>=8.1.3 in /Users/i536097/anaconda3/lib/python3.10/site-packages (from sap-llm-commons[all]) (8.1.3)\n",
      "Requirement already satisfied: aiohttp<4.0,>=3.0 in /Users/i536097/anaconda3/lib/python3.10/site-packages (from cohere>=4.27->sap-llm-commons[all]) (3.9.1)\n",
      "Requirement already satisfied: backoff<3.0,>=2.0 in /Users/i536097/anaconda3/lib/python3.10/site-packages (from cohere>=4.27->sap-llm-commons[all]) (2.2.1)\n",
      "Requirement already satisfied: fastavro<2.0,>=1.8 in /Users/i536097/anaconda3/lib/python3.10/site-packages (from cohere>=4.27->sap-llm-commons[all]) (1.9.1)\n",
      "Requirement already satisfied: importlib_metadata<7.0,>=6.0 in /Users/i536097/anaconda3/lib/python3.10/site-packages (from cohere>=4.27->sap-llm-commons[all]) (6.0.0)\n",
      "Requirement already satisfied: requests<3.0.0,>=2.25.0 in /Users/i536097/anaconda3/lib/python3.10/site-packages (from cohere>=4.27->sap-llm-commons[all]) (2.28.2)\n",
      "Requirement already satisfied: urllib3<3,>=1.26 in /Users/i536097/anaconda3/lib/python3.10/site-packages (from cohere>=4.27->sap-llm-commons[all]) (1.26.14)\n",
      "Requirement already satisfied: PyYAML>=5.3 in /Users/i536097/anaconda3/lib/python3.10/site-packages (from langchain[openai]<=0.0.335,>=0.0.331->sap-llm-commons[all]) (5.3.1)\n",
      "Requirement already satisfied: SQLAlchemy<3,>=1.4 in /Users/i536097/anaconda3/lib/python3.10/site-packages (from langchain[openai]<=0.0.335,>=0.0.331->sap-llm-commons[all]) (1.4.39)\n",
      "Requirement already satisfied: anyio<4.0 in /Users/i536097/anaconda3/lib/python3.10/site-packages (from langchain[openai]<=0.0.335,>=0.0.331->sap-llm-commons[all]) (3.6.2)\n",
      "Requirement already satisfied: async-timeout<5.0.0,>=4.0.0 in /Users/i536097/anaconda3/lib/python3.10/site-packages (from langchain[openai]<=0.0.335,>=0.0.331->sap-llm-commons[all]) (4.0.3)\n",
      "Requirement already satisfied: dataclasses-json<0.7,>=0.5.7 in /Users/i536097/anaconda3/lib/python3.10/site-packages (from langchain[openai]<=0.0.335,>=0.0.331->sap-llm-commons[all]) (0.5.14)\n",
      "Requirement already satisfied: jsonpatch<2.0,>=1.33 in /Users/i536097/anaconda3/lib/python3.10/site-packages (from langchain[openai]<=0.0.335,>=0.0.331->sap-llm-commons[all]) (1.33)\n",
      "Requirement already satisfied: langsmith<0.1.0,>=0.0.63 in /Users/i536097/anaconda3/lib/python3.10/site-packages (from langchain[openai]<=0.0.335,>=0.0.331->sap-llm-commons[all]) (0.0.69)\n",
      "Requirement already satisfied: numpy<2,>=1 in /Users/i536097/anaconda3/lib/python3.10/site-packages (from langchain[openai]<=0.0.335,>=0.0.331->sap-llm-commons[all]) (1.24.3)\n",
      "Requirement already satisfied: pydantic<3,>=1 in /Users/i536097/anaconda3/lib/python3.10/site-packages (from langchain[openai]<=0.0.335,>=0.0.331->sap-llm-commons[all]) (1.10.5)\n",
      "Requirement already satisfied: tenacity<9.0.0,>=8.1.0 in /Users/i536097/anaconda3/lib/python3.10/site-packages (from langchain[openai]<=0.0.335,>=0.0.331->sap-llm-commons[all]) (8.2.2)\n",
      "Requirement already satisfied: tiktoken<0.6.0,>=0.3.2 in /Users/i536097/anaconda3/lib/python3.10/site-packages (from langchain[openai]<=0.0.335,>=0.0.331->sap-llm-commons[all]) (0.4.0)\n",
      "Requirement already satisfied: tqdm in /Users/i536097/anaconda3/lib/python3.10/site-packages (from openai<1->sap-llm-commons[all]) (4.65.0)\n",
      "Requirement already satisfied: huggingface-hub<1.0,>=0.12 in /Users/i536097/anaconda3/lib/python3.10/site-packages (from text-generation>=0.6.0->sap-llm-commons[all]) (0.19.4)\n",
      "Requirement already satisfied: ai-api-client-sdk==1.28.0 in /Users/i536097/anaconda3/lib/python3.10/site-packages (from ai-core-sdk->sap-llm-commons[all]) (1.28.0)\n",
      "Requirement already satisfied: aenum~=3.1 in /Users/i536097/anaconda3/lib/python3.10/site-packages (from ai-api-client-sdk==1.28.0->ai-core-sdk->sap-llm-commons[all]) (3.1.15)\n",
      "Requirement already satisfied: pyhumps~=3.0 in /Users/i536097/anaconda3/lib/python3.10/site-packages (from ai-api-client-sdk==1.28.0->ai-core-sdk->sap-llm-commons[all]) (3.8.0)\n",
      "Requirement already satisfied: aiodns>=3.0.0 in /Users/i536097/anaconda3/lib/python3.10/site-packages (from aleph-alpha-client->sap-llm-commons[all]) (3.1.1)\n",
      "Requirement already satisfied: aiohttp-retry>=2.8.3 in /Users/i536097/anaconda3/lib/python3.10/site-packages (from aleph-alpha-client->sap-llm-commons[all]) (2.8.3)\n",
      "Requirement already satisfied: tokenizers>=0.13.2 in /Users/i536097/anaconda3/lib/python3.10/site-packages (from aleph-alpha-client->sap-llm-commons[all]) (0.15.0)\n",
      "Requirement already satisfied: typing-extensions>=4.5.0 in /Users/i536097/anaconda3/lib/python3.10/site-packages (from aleph-alpha-client->sap-llm-commons[all]) (4.7.1)\n",
      "Requirement already satisfied: Pillow>=9.2.0 in /Users/i536097/anaconda3/lib/python3.10/site-packages (from aleph-alpha-client->sap-llm-commons[all]) (9.4.0)\n",
      "Requirement already satisfied: python-liquid>=1.9.4 in /Users/i536097/anaconda3/lib/python3.10/site-packages (from aleph-alpha-client->sap-llm-commons[all]) (1.10.0)\n",
      "Requirement already satisfied: antlr4-python3-runtime==4.9.* in /Users/i536097/anaconda3/lib/python3.10/site-packages (from omegaconf->sap-llm-commons[all]) (4.9.3)\n",
      "Requirement already satisfied: pycares>=4.0.0 in /Users/i536097/anaconda3/lib/python3.10/site-packages (from aiodns>=3.0.0->aleph-alpha-client->sap-llm-commons[all]) (4.4.0)\n",
      "Requirement already satisfied: attrs>=17.3.0 in /Users/i536097/anaconda3/lib/python3.10/site-packages (from aiohttp<4.0,>=3.0->cohere>=4.27->sap-llm-commons[all]) (22.1.0)\n",
      "Requirement already satisfied: multidict<7.0,>=4.5 in /Users/i536097/anaconda3/lib/python3.10/site-packages (from aiohttp<4.0,>=3.0->cohere>=4.27->sap-llm-commons[all]) (6.0.4)\n",
      "Requirement already satisfied: yarl<2.0,>=1.0 in /Users/i536097/anaconda3/lib/python3.10/site-packages (from aiohttp<4.0,>=3.0->cohere>=4.27->sap-llm-commons[all]) (1.9.2)\n",
      "Requirement already satisfied: frozenlist>=1.1.1 in /Users/i536097/anaconda3/lib/python3.10/site-packages (from aiohttp<4.0,>=3.0->cohere>=4.27->sap-llm-commons[all]) (1.4.0)\n",
      "Requirement already satisfied: aiosignal>=1.1.2 in /Users/i536097/anaconda3/lib/python3.10/site-packages (from aiohttp<4.0,>=3.0->cohere>=4.27->sap-llm-commons[all]) (1.3.1)\n",
      "Requirement already satisfied: idna>=2.8 in /Users/i536097/anaconda3/lib/python3.10/site-packages (from anyio<4.0->langchain[openai]<=0.0.335,>=0.0.331->sap-llm-commons[all]) (3.4)\n",
      "Requirement already satisfied: sniffio>=1.1 in /Users/i536097/anaconda3/lib/python3.10/site-packages (from anyio<4.0->langchain[openai]<=0.0.335,>=0.0.331->sap-llm-commons[all]) (1.3.0)\n",
      "Requirement already satisfied: marshmallow<4.0.0,>=3.18.0 in /Users/i536097/anaconda3/lib/python3.10/site-packages (from dataclasses-json<0.7,>=0.5.7->langchain[openai]<=0.0.335,>=0.0.331->sap-llm-commons[all]) (3.20.1)\n",
      "Requirement already satisfied: typing-inspect<1,>=0.4.0 in /Users/i536097/anaconda3/lib/python3.10/site-packages (from dataclasses-json<0.7,>=0.5.7->langchain[openai]<=0.0.335,>=0.0.331->sap-llm-commons[all]) (0.9.0)\n",
      "Requirement already satisfied: filelock in /Users/i536097/anaconda3/lib/python3.10/site-packages (from huggingface-hub<1.0,>=0.12->text-generation>=0.6.0->sap-llm-commons[all]) (3.12.4)\n",
      "Requirement already satisfied: fsspec>=2023.5.0 in /Users/i536097/anaconda3/lib/python3.10/site-packages (from huggingface-hub<1.0,>=0.12->text-generation>=0.6.0->sap-llm-commons[all]) (2023.12.1)\n",
      "Requirement already satisfied: packaging>=20.9 in /Users/i536097/anaconda3/lib/python3.10/site-packages (from huggingface-hub<1.0,>=0.12->text-generation>=0.6.0->sap-llm-commons[all]) (23.0)\n",
      "Requirement already satisfied: zipp>=0.5 in /Users/i536097/anaconda3/lib/python3.10/site-packages (from importlib_metadata<7.0,>=6.0->cohere>=4.27->sap-llm-commons[all]) (3.6.0)\n",
      "Requirement already satisfied: jsonpointer>=1.9 in /Users/i536097/anaconda3/lib/python3.10/site-packages (from jsonpatch<2.0,>=1.33->langchain[openai]<=0.0.335,>=0.0.331->sap-llm-commons[all]) (2.1)\n",
      "Requirement already satisfied: python-dateutil>=2.8.1 in /Users/i536097/anaconda3/lib/python3.10/site-packages (from python-liquid>=1.9.4->aleph-alpha-client->sap-llm-commons[all]) (2.8.2)\n",
      "Requirement already satisfied: charset-normalizer<4,>=2 in /Users/i536097/anaconda3/lib/python3.10/site-packages (from requests<3.0.0,>=2.25.0->cohere>=4.27->sap-llm-commons[all]) (3.1.0)\n",
      "Requirement already satisfied: certifi>=2017.4.17 in /Users/i536097/anaconda3/lib/python3.10/site-packages (from requests<3.0.0,>=2.25.0->cohere>=4.27->sap-llm-commons[all]) (2022.12.7)\n",
      "Requirement already satisfied: greenlet!=0.4.17 in /Users/i536097/anaconda3/lib/python3.10/site-packages (from SQLAlchemy<3,>=1.4->langchain[openai]<=0.0.335,>=0.0.331->sap-llm-commons[all]) (2.0.1)\n",
      "Requirement already satisfied: regex>=2022.1.18 in /Users/i536097/anaconda3/lib/python3.10/site-packages (from tiktoken<0.6.0,>=0.3.2->langchain[openai]<=0.0.335,>=0.0.331->sap-llm-commons[all]) (2022.7.9)\n",
      "Requirement already satisfied: cffi>=1.5.0 in /Users/i536097/anaconda3/lib/python3.10/site-packages (from pycares>=4.0.0->aiodns>=3.0.0->aleph-alpha-client->sap-llm-commons[all]) (1.15.1)\n",
      "Requirement already satisfied: six>=1.5 in /Users/i536097/anaconda3/lib/python3.10/site-packages (from python-dateutil>=2.8.1->python-liquid>=1.9.4->aleph-alpha-client->sap-llm-commons[all]) (1.16.0)\n",
      "Requirement already satisfied: mypy-extensions>=0.3.0 in /Users/i536097/anaconda3/lib/python3.10/site-packages (from typing-inspect<1,>=0.4.0->dataclasses-json<0.7,>=0.5.7->langchain[openai]<=0.0.335,>=0.0.331->sap-llm-commons[all]) (0.4.3)\n",
      "Requirement already satisfied: pycparser in /Users/i536097/anaconda3/lib/python3.10/site-packages (from cffi>=1.5.0->pycares>=4.0.0->aiodns>=3.0.0->aleph-alpha-client->sap-llm-commons[all]) (2.21)\n"
     ]
    }
   ],
   "source": [
    "!pip install \"sap-llm-commons[all]\""
   ]
  },
  {
   "cell_type": "code",
   "execution_count": 6,
   "metadata": {},
   "outputs": [
    {
     "name": "stdout",
     "output_type": "stream",
     "text": [
      "Looking in indexes: https://pypi.org/simple, https://int.repositories.cloud.sap/artifactory/api/pypi/proxy-deploy-releases-hyperspace-pypi/simple\n",
      "Requirement already satisfied: ai-api-client-sdk in /Users/i536097/anaconda3/lib/python3.10/site-packages (1.28.0)\n",
      "Requirement already satisfied: aenum~=3.1 in /Users/i536097/anaconda3/lib/python3.10/site-packages (from ai-api-client-sdk) (3.1.15)\n",
      "Requirement already satisfied: pyhumps~=3.0 in /Users/i536097/anaconda3/lib/python3.10/site-packages (from ai-api-client-sdk) (3.8.0)\n",
      "Requirement already satisfied: requests<3.0 in /Users/i536097/anaconda3/lib/python3.10/site-packages (from ai-api-client-sdk) (2.28.2)\n",
      "Requirement already satisfied: charset-normalizer<4,>=2 in /Users/i536097/anaconda3/lib/python3.10/site-packages (from requests<3.0->ai-api-client-sdk) (3.1.0)\n",
      "Requirement already satisfied: idna<4,>=2.5 in /Users/i536097/anaconda3/lib/python3.10/site-packages (from requests<3.0->ai-api-client-sdk) (3.4)\n",
      "Requirement already satisfied: urllib3<1.27,>=1.21.1 in /Users/i536097/anaconda3/lib/python3.10/site-packages (from requests<3.0->ai-api-client-sdk) (1.26.14)\n",
      "Requirement already satisfied: certifi>=2017.4.17 in /Users/i536097/anaconda3/lib/python3.10/site-packages (from requests<3.0->ai-api-client-sdk) (2022.12.7)\n"
     ]
    }
   ],
   "source": [
    "!pip install ai-api-client-sdk"
   ]
  },
  {
   "cell_type": "code",
   "execution_count": 1,
   "metadata": {},
   "outputs": [],
   "source": [
    "# proxy configuration\n",
    "from ipywidgets import widgets\n",
    "import json\n",
    "import os\n",
    "import llm_commons.proxy.base\n",
    "\n",
    "llm_commons.proxy.base.proxy_version = 'aicore'"
   ]
  },
  {
   "cell_type": "code",
   "execution_count": 2,
   "metadata": {},
   "outputs": [],
   "source": [
    "from llm_commons.proxy.openai import Completion\n",
    "from llm_commons.proxy.identity import AICoreProxyClient\n",
    "from llm_commons.langchain.proxy import ChatOpenAI\n",
    "from llm_commons.btp_llm.identity import BTPProxyClient\n",
    "from llm_commons.langchain.proxy import init_llm, init_embedding_model"
   ]
  },
  {
   "cell_type": "code",
   "execution_count": 3,
   "metadata": {},
   "outputs": [
    {
     "data": {
      "application/vnd.jupyter.widget-view+json": {
       "model_id": "77bf2775a5f44a82b13e33773aa9027e",
       "version_major": 2,
       "version_minor": 0
      },
      "text/plain": [
       "Text(value='47d7157c-af7b-4416-816c-5c0871523092', placeholder='Resource group of deployments')"
      ]
     },
     "metadata": {},
     "output_type": "display_data"
    }
   ],
   "source": [
    "resource_group = widgets.Text(\n",
    "    value='47d7157c-af7b-4416-816c-5c0871523092', # resource group\n",
    "    placeholder='Resource group of deployments',\n",
    "    description='',\n",
    "    disabled=False\n",
    ")\n",
    "\n",
    "resource_group"
   ]
  },
  {
   "cell_type": "code",
   "execution_count": 4,
   "metadata": {},
   "outputs": [],
   "source": [
    "with open('irpa-r570-genaixl-ka-sk.txt') as f:\n",
    "    sk = json.load(f)"
   ]
  },
  {
   "cell_type": "code",
   "execution_count": 5,
   "metadata": {},
   "outputs": [],
   "source": [
    "os.environ['AICORE_LLM_AUTH_URL'] = sk['url']+\"/oauth/token\"\n",
    "os.environ['AICORE_LLM_CLIENT_ID'] = sk['clientid']\n",
    "os.environ['AICORE_LLM_CLIENT_SECRET'] = sk['clientsecret']\n",
    "os.environ['AICORE_LLM_API_BASE'] = sk[\"serviceurls\"][\"AI_API_URL\"]+ \"/v2\"\n",
    "os.environ['AICORE_LLM_RESOURCE_GROUP'] = resource_group.value\n",
    "os.environ['LLM_COMMONS_PROXY'] = 'aicore'\n",
    "\n",
    "llm_commons.proxy.resource_group = os.environ['AICORE_LLM_RESOURCE_GROUP']\n",
    "llm_commons.proxy.api_base = os.environ['AICORE_LLM_API_BASE']\n",
    "llm_commons.proxy.auth_url = os.environ['AICORE_LLM_AUTH_URL']\n",
    "llm_commons.proxy.client_id = os.environ['AICORE_LLM_CLIENT_ID']\n",
    "llm_commons.proxy.client_secret = os.environ['AICORE_LLM_CLIENT_SECRET']"
   ]
  },
  {
   "cell_type": "code",
   "execution_count": 6,
   "metadata": {},
   "outputs": [],
   "source": [
    "aic_proxy_client = AICoreProxyClient()\n",
    "btp_proxy_client = BTPProxyClient()"
   ]
  },
  {
   "attachments": {},
   "cell_type": "markdown",
   "metadata": {},
   "source": [
    "Deploy customized fine-tuned models"
   ]
  },
  {
   "cell_type": "code",
   "execution_count": 7,
   "metadata": {},
   "outputs": [],
   "source": [
    "AICoreProxyClient.add_foundation_model_scenario(\n",
    "    scenario_id='fine-tuned-llm',\n",
    "    config_names='fine-tuned-*',\n",
    "    prediction_url_suffix='/v1/completions'\n",
    ")"
   ]
  },
  {
   "cell_type": "code",
   "execution_count": 8,
   "metadata": {},
   "outputs": [
    {
     "data": {
      "text/plain": [
       "[Deployment(url='https://api.ai.prod.eu-central-1.aws.ml.hana.ondemand.com/v2/inference/deployments/d026d09d4fbbad63', config_id='073de863-8444-48d0-a7a8-b50d2b15ea20', config_name='text-embedding-ada-002-config-2', deployment_id='d026d09d4fbbad63', model_name='text-embedding-ada-002', created_at=datetime.datetime(2023, 12, 27, 7, 46, 7), additonal_parameters={'executable_id': 'azure-openai', 'model_version': '2'}, custom_prediction_suffix=None),\n",
       " Deployment(url='https://api.ai.prod.eu-central-1.aws.ml.hana.ondemand.com/v2/inference/deployments/d0b48be055f492be', config_id='f257863e-4b02-4f5d-8104-63645640dd42', config_name='tiiuae--falcon-40b-instruct-config', deployment_id='d0b48be055f492be', model_name='tiiuae--falcon-40b-instruct', created_at=datetime.datetime(2023, 12, 26, 11, 52, 45), additonal_parameters={'executable_id': 'aicore-opensource', 'model_version': 'null'}, custom_prediction_suffix=None),\n",
       " Deployment(url='https://api.ai.prod.eu-central-1.aws.ml.hana.ondemand.com/v2/inference/deployments/d8c039ac4f9bbea8', config_id='31b658d8-b7b5-48e2-acfa-0376de9666d0', config_name='gpt-4-32k-config', deployment_id='d8c039ac4f9bbea8', model_name='gpt-4-32k', created_at=datetime.datetime(2023, 12, 26, 11, 14, 57), additonal_parameters={'executable_id': 'azure-openai', 'model_version': '0613'}, custom_prediction_suffix=None),\n",
       " Deployment(url='https://api.ai.prod.eu-central-1.aws.ml.hana.ondemand.com/v2/inference/deployments/d13fd219506b28f1', config_id='07a3e7a3-adf2-4121-b1c6-5af2a6a0c986', config_name='gpt-4-config', deployment_id='d13fd219506b28f1', model_name='gpt-4', created_at=datetime.datetime(2023, 12, 26, 8, 9, 13), additonal_parameters={'executable_id': 'azure-openai', 'model_version': '0613'}, custom_prediction_suffix=None),\n",
       " Deployment(url='https://api.ai.prod.eu-central-1.aws.ml.hana.ondemand.com/v2/inference/deployments/d3d362baea45a716', config_id='ad8443e0-e059-445c-8bba-1b45b2ad483d', config_name='gpt-35-turbo-16k-config', deployment_id='d3d362baea45a716', model_name='gpt-35-turbo-16k', created_at=datetime.datetime(2023, 12, 26, 8, 5, 1), additonal_parameters={'executable_id': 'azure-openai', 'model_version': 'latest'}, custom_prediction_suffix=None),\n",
       " Deployment(url='https://api.ai.prod.eu-central-1.aws.ml.hana.ondemand.com/v2/inference/deployments/d4d0fce7c6bdf494', config_id='9722351e-363b-49f3-9d6c-ef5b3d875a4d', config_name='gpt-35-turbo-config', deployment_id='d4d0fce7c6bdf494', model_name='gpt-35-turbo', created_at=datetime.datetime(2023, 12, 26, 7, 52, 43), additonal_parameters={'executable_id': 'azure-openai', 'model_version': 'latest'}, custom_prediction_suffix=None)]"
      ]
     },
     "execution_count": 8,
     "metadata": {},
     "output_type": "execute_result"
    }
   ],
   "source": [
    "aic_proxy_client.get_deployments()"
   ]
  },
  {
   "cell_type": "code",
   "execution_count": 8,
   "metadata": {},
   "outputs": [],
   "source": [
    "text_davinci_003 = Completion(deployment_id='text-davinci-003')"
   ]
  },
  {
   "cell_type": "code",
   "execution_count": 14,
   "metadata": {},
   "outputs": [],
   "source": [
    "# text_davinci_003.create(model_name='our-awesome-model/v1', prompt=\"San Francisco is a\")"
   ]
  },
  {
   "attachments": {},
   "cell_type": "markdown",
   "metadata": {},
   "source": [
    "Initialize harmonized model"
   ]
  },
  {
   "cell_type": "code",
   "execution_count": 9,
   "metadata": {},
   "outputs": [],
   "source": [
    "llm = init_llm('gpt-35-turbo', proxy_client = aic_proxy_client,temperature=0., max_tokens=256, deployment_id='d4d0fce7c6bdf494', api_base=llm_commons.proxy.api_base)"
   ]
  },
  {
   "cell_type": "code",
   "execution_count": 10,
   "metadata": {},
   "outputs": [
    {
     "data": {
      "text/plain": [
       "\"I am an AI language model developed by OpenAI, and I don't have a personal name. You can simply refer to me as OpenAI Assistant. How can I assist you today?\""
      ]
     },
     "execution_count": 10,
     "metadata": {},
     "output_type": "execute_result"
    }
   ],
   "source": [
    "llm.predict(\"What is your name?\")"
   ]
  },
  {
   "cell_type": "code",
   "execution_count": 11,
   "metadata": {},
   "outputs": [],
   "source": [
    "embedding = init_embedding_model('text-embedding-ada-002-v2', proxy_client=aic_proxy_client, deployment_id='d026d09d4fbbad63', api_base=llm_commons.proxy.api_base)"
   ]
  },
  {
   "cell_type": "code",
   "execution_count": 13,
   "metadata": {},
   "outputs": [],
   "source": [
    "query = \"What is your name?\"\n",
    "query_embedding = embedding.embed_query(query)"
   ]
  },
  {
   "cell_type": "code",
   "execution_count": 14,
   "metadata": {},
   "outputs": [],
   "source": [
    "documents = [\"This is a sample document\"]\n",
    "document_embedding = embedding.embed_documents(documents)"
   ]
  },
  {
   "attachments": {},
   "cell_type": "markdown",
   "metadata": {},
   "source": [
    "AI Core proxy support"
   ]
  },
  {
   "cell_type": "code",
   "execution_count": 15,
   "metadata": {},
   "outputs": [
    {
     "data": {
      "text/plain": [
       "\"I am an AI developed by OpenAI, and I'm called ChatGPT. I don't have a personal name as I'm not a human.\""
      ]
     },
     "execution_count": 15,
     "metadata": {},
     "output_type": "execute_result"
    }
   ],
   "source": [
    "from llm_commons.proxy.base import set_proxy_version\n",
    "set_proxy_version('aicore') # for an AI Core proxy\n",
    "from llm_commons.langchain.proxy import ChatOpenAI\n",
    "chat = ChatOpenAI(proxy_model_name='gpt-4')\n",
    "chat.predict('What is your name?')"
   ]
  },
  {
   "attachments": {},
   "cell_type": "markdown",
   "metadata": {},
   "source": [
    "Proxy client - use proxies in parallel"
   ]
  },
  {
   "cell_type": "code",
   "execution_count": 16,
   "metadata": {},
   "outputs": [],
   "source": [
    "from llm_commons.langchain.proxy import ChatOpenAI\n",
    "from langchain.schema.messages import HumanMessage\n",
    "from llm_commons.proxy.openai import ChatCompletion"
   ]
  },
  {
   "cell_type": "code",
   "execution_count": 17,
   "metadata": {},
   "outputs": [
    {
     "name": "stdout",
     "output_type": "stream",
     "text": [
      "{\n",
      "  \"choices\": [\n",
      "    {\n",
      "      \"content_filter_results\": {\n",
      "        \"hate\": {\n",
      "          \"filtered\": false,\n",
      "          \"severity\": \"safe\"\n",
      "        },\n",
      "        \"self_harm\": {\n",
      "          \"filtered\": false,\n",
      "          \"severity\": \"safe\"\n",
      "        },\n",
      "        \"sexual\": {\n",
      "          \"filtered\": false,\n",
      "          \"severity\": \"safe\"\n",
      "        },\n",
      "        \"violence\": {\n",
      "          \"filtered\": false,\n",
      "          \"severity\": \"safe\"\n",
      "        }\n",
      "      },\n",
      "      \"finish_reason\": \"stop\",\n",
      "      \"index\": 0,\n",
      "      \"message\": {\n",
      "        \"content\": \"This is a test.\",\n",
      "        \"role\": \"assistant\"\n",
      "      }\n",
      "    }\n",
      "  ],\n",
      "  \"created\": 1703676592,\n",
      "  \"id\": \"chatcmpl-8aMOeaJia74WE4dIbKAXoqD1fTEeu\",\n",
      "  \"model\": \"gpt-4\",\n",
      "  \"object\": \"chat.completion\",\n",
      "  \"prompt_filter_results\": [\n",
      "    {\n",
      "      \"content_filter_results\": {\n",
      "        \"hate\": {\n",
      "          \"filtered\": false,\n",
      "          \"severity\": \"safe\"\n",
      "        },\n",
      "        \"jailbreak\": {\n",
      "          \"detected\": false,\n",
      "          \"filtered\": false\n",
      "        },\n",
      "        \"self_harm\": {\n",
      "          \"filtered\": false,\n",
      "          \"severity\": \"safe\"\n",
      "        },\n",
      "        \"sexual\": {\n",
      "          \"filtered\": false,\n",
      "          \"severity\": \"safe\"\n",
      "        },\n",
      "        \"violence\": {\n",
      "          \"filtered\": false,\n",
      "          \"severity\": \"safe\"\n",
      "        }\n",
      "      },\n",
      "      \"prompt_index\": 0\n",
      "    }\n",
      "  ],\n",
      "  \"usage\": {\n",
      "    \"completion_tokens\": 5,\n",
      "    \"prompt_tokens\": 12,\n",
      "    \"total_tokens\": 17\n",
      "  }\n",
      "}\n"
     ]
    }
   ],
   "source": [
    "messages=[{\"role\": \"user\", \"content\": \"Say this is a test\"}]\n",
    "\n",
    "print(ChatCompletion.create(proxy_client=aic_proxy_client, model_name='gpt-4', messages=messages, api_base=os.environ['AICORE_LLM_API_BASE']))"
   ]
  },
  {
   "cell_type": "code",
   "execution_count": 18,
   "metadata": {},
   "outputs": [
    {
     "name": "stdout",
     "output_type": "stream",
     "text": [
      "content='This is a test.'\n"
     ]
    }
   ],
   "source": [
    "messages = [\n",
    "    HumanMessage(content=\"Say this is a test\"),\n",
    "]\n",
    "# btp_llm = ChatOpenAI(proxy_client=btp_proxy_client, deployment_id='gpt-4')\n",
    "# print(btp_llm.invoke(messages))\n",
    "aic_llm = ChatOpenAI(proxy_client=aic_proxy_client, proxy_model_name='gpt-4')\n",
    "print(aic_llm.invoke(messages))"
   ]
  },
  {
   "attachments": {},
   "cell_type": "markdown",
   "metadata": {},
   "source": [
    "Using llm-commons with fine-tuned models"
   ]
  },
  {
   "cell_type": "code",
   "execution_count": 19,
   "metadata": {},
   "outputs": [],
   "source": [
    "# use it with langchain\n",
    "\n",
    "from langchain.chains import LLMChain\n",
    "from langchain.prompts import PromptTemplate\n",
    "from llm_commons.langchain.proxy import OpenAI\n",
    "\n",
    "llm = ChatOpenAI(proxy_model_name='gpt-4')\n",
    "template = \"Question: {question}\\nAnswer: Let's think step by step.\"\"\""
   ]
  },
  {
   "cell_type": "code",
   "execution_count": 20,
   "metadata": {},
   "outputs": [
    {
     "name": "stdout",
     "output_type": "stream",
     "text": [
      "\n",
      "\n",
      "\u001b[1m> Entering new LLMChain chain...\u001b[0m\n",
      "Prompt after formatting:\n",
      "\u001b[32;1m\u001b[1;3mQuestion: What is the world's best B2B company?\n",
      "Answer: Let's think step by step.\u001b[0m\n",
      "\n",
      "\u001b[1m> Finished chain.\u001b[0m\n"
     ]
    },
    {
     "data": {
      "text/plain": [
       "'Determining the \"best\" B2B company in the world can be subjective depending on various factors such as industry, size, revenue, customer service, and innovation, among others. Some of the well-known and successful global B2B companies include IBM, Microsoft, Google, Alibaba, and Amazon Web Services. These companies have made significant impacts in their respective industries and offer a variety of products and services for businesses. But again, the \"best\" would depend on specific criteria or context.'"
      ]
     },
     "execution_count": 20,
     "metadata": {},
     "output_type": "execute_result"
    }
   ],
   "source": [
    "prompt = PromptTemplate(template=template, input_variables=['question'])\n",
    "llm_chain = LLMChain(prompt=prompt, llm=llm, verbose=True)\n",
    "llm_chain.run(\"What is the world's best B2B company?\")"
   ]
  },
  {
   "cell_type": "code",
   "execution_count": null,
   "metadata": {},
   "outputs": [],
   "source": []
  }
 ],
 "metadata": {
  "kernelspec": {
   "display_name": "base",
   "language": "python",
   "name": "python3"
  },
  "language_info": {
   "codemirror_mode": {
    "name": "ipython",
    "version": 3
   },
   "file_extension": ".py",
   "mimetype": "text/x-python",
   "name": "python",
   "nbconvert_exporter": "python",
   "pygments_lexer": "ipython3",
   "version": "3.10.12"
  },
  "orig_nbformat": 4,
  "vscode": {
   "interpreter": {
    "hash": "de4a507b2430954be05ae5f9be35829c657a2682621712b642b28df909ac005f"
   }
  }
 },
 "nbformat": 4,
 "nbformat_minor": 2
}
