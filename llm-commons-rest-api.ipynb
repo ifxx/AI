{
 "cells": [
  {
   "cell_type": "code",
   "execution_count": 6,
   "metadata": {},
   "outputs": [],
   "source": [
    "import json\n",
    "from ipywidgets import widgets\n",
    "import os\n",
    "import requests\n",
    "import llm_commons.proxy.base\n",
    "\n",
    "llm_commons.proxy.base.proxy_version = 'aicore'"
   ]
  },
  {
   "cell_type": "code",
   "execution_count": 7,
   "metadata": {},
   "outputs": [],
   "source": [
    "with open('config/irpa-d26-genaixl-cx-sec-cn-sk.json') as f:\n",
    "    sk = json.load(f)"
   ]
  },
  {
   "cell_type": "code",
   "execution_count": 8,
   "metadata": {},
   "outputs": [
    {
     "data": {
      "application/vnd.jupyter.widget-view+json": {
       "model_id": "38f9f20f74584981a2bee2e733aa6c5e",
       "version_major": 2,
       "version_minor": 0
      },
      "text/plain": [
       "Text(value='default', placeholder='Resource group of deployments')"
      ]
     },
     "execution_count": 8,
     "metadata": {},
     "output_type": "execute_result"
    }
   ],
   "source": [
    "resource_group = widgets.Text(\n",
    "    value='default', # resource group\n",
    "    placeholder='Resource group of deployments',\n",
    "    description='',\n",
    "    disabled=False\n",
    ")\n",
    "\n",
    "resource_group"
   ]
  },
  {
   "cell_type": "code",
   "execution_count": 9,
   "metadata": {},
   "outputs": [],
   "source": [
    "os.environ['AICORE_LLM_AUTH_URL'] = sk['url']+\"/oauth/token\"\n",
    "os.environ['AICORE_LLM_CLIENT_ID'] = sk['clientid']\n",
    "os.environ['AICORE_LLM_CLIENT_SECRET'] = sk['clientsecret']\n",
    "os.environ['AICORE_LLM_API_BASE'] = sk[\"serviceurls\"][\"AI_API_URL\"]+ \"/v2\"\n",
    "os.environ['AICORE_LLM_RESOURCE_GROUP'] = resource_group.value\n",
    "os.environ['LLM_COMMONS_PROXY'] = 'aicore'\n",
    "\n",
    "llm_commons.proxy.resource_group = os.environ['AICORE_LLM_RESOURCE_GROUP']\n",
    "llm_commons.proxy.api_base = os.environ['AICORE_LLM_API_BASE']\n",
    "llm_commons.proxy.auth_url = os.environ['AICORE_LLM_AUTH_URL']\n",
    "llm_commons.proxy.client_id = os.environ['AICORE_LLM_CLIENT_ID']\n",
    "llm_commons.proxy.client_secret = os.environ['AICORE_LLM_CLIENT_SECRET']"
   ]
  },
  {
   "cell_type": "code",
   "execution_count": 10,
   "metadata": {},
   "outputs": [
    {
     "name": "stdout",
     "output_type": "stream",
     "text": [
      "eyJhbGciOiJSUzI1NiIsImprdSI6Imh0dHBzOi8vc2FwaXQtY29yZS1wbGF5Z3JvdW5kLXZvbGUuYXV0aGVudGljYXRpb24uZXUxMC5oYW5hLm9uZGVtYW5kLmNvbS90b2tlbl9rZXlzIiwia2lkIjoiZGVmYXVsdC1qd3Qta2V5LTEyNTI4Njk5MzEiLCJ0eXAiOiJKV1QiLCJqaWQiOiAicnVmQnFkcTdIS1BFd3pvNGN0RmF6cXhGcFFTR1N1YW1ESXhsYkhyZmxLZz0ifQ.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.O84qq7DPLE4ERhwpfoLOv5uY_Iwu0dJavPm2ds_EdxtgMlnKHXa-If9sqrrCNI4tePHThnKyMJvmfRWWKkqGWywrEc96DYMicAk299s4CWwsEhpgi1s9aVV6zoOEwmLD7As66_GBzKjpe7qQ50Vs6gXkWcMwwsR7CIMCvy5EhlM4Qe85MXDStEnG0-8f2yWJUH_3V0hXM-BL2lLq82TFrsYr6qGJ6sL5MCFmhJbY7O8_kZeJgLHxWuxf99ODhC5VAi77O1FuuvQ0e_npyWcGSI4NpbCwBxhlZ-Zdw4ltfK9P8GjPPfkVCbWYdo5UYOJLPAADx0raNEOEa-6_GN8DvA\n"
     ]
    }
   ],
   "source": [
    "response = requests.post(\n",
    "        f'{os.environ[\"AICORE_LLM_AUTH_URL\"]}/oauth/token',\n",
    "        data={\"grant_type\": \"client_credentials\"},\n",
    "        auth=(os.environ['AICORE_LLM_CLIENT_ID'], os.environ['AICORE_LLM_CLIENT_SECRET']),\n",
    "        timeout=8000,\n",
    ")\n",
    "auth_token = response.json()[\"access_token\"]\n",
    "print (auth_token)"
   ]
  },
  {
   "cell_type": "code",
   "execution_count": null,
   "metadata": {},
   "outputs": [],
   "source": [
    "## Copy deployment URL from AILaunchPad or Wiki page shared by Usecase team\n",
    "deployment_url= \"https://api.ai.prod.eu-central-1.aws.ml.hana.ondemand.com/v2/inference/deployments/dd88f66091ca1982\""
   ]
  },
  {
   "cell_type": "code",
   "execution_count": null,
   "metadata": {},
   "outputs": [],
   "source": [
    "# Preparing the input for inference\n",
    "test_input = {\n",
    "    \"model\" : \"text-embedding-ada-002\",\n",
    "    \"input\" : [\"test embedding model\"]\n",
    "}\n",
    "\n",
    "endpoint = f\"{deployment_url}/embeddings?api-version=2023-05-15\" # endpoint implemented in serving engine\n",
    "print(endpoint)\n",
    "headers = {\"Authorization\": f\"Bearer {auth_token}\",\n",
    "           'ai-resource-group': os.environ['AICORE_LLM_RESOURCE_GROUP'],\n",
    "           \"Content-Type\": \"application/json\"}\n",
    "response = requests.post(endpoint, headers=headers, json=test_input)\n",
    "\n",
    "print('Inference result:', response)\n",
    "print('Inference result:', response.text)"
   ]
  },
  {
   "attachments": {},
   "cell_type": "markdown",
   "metadata": {},
   "source": [
    "Chat completion with API"
   ]
  },
  {
   "cell_type": "code",
   "execution_count": null,
   "metadata": {},
   "outputs": [],
   "source": [
    "## Copy deployment URL from AILaunchPad or Wiki page shared by Usecase team\n",
    "deployment_url= \"https://api.ai.prod.eu-central-1.aws.ml.hana.ondemand.com/v2/inference/deployments/d58f5bb41a9941cf\""
   ]
  },
  {
   "cell_type": "code",
   "execution_count": null,
   "metadata": {},
   "outputs": [],
   "source": [
    "# Preparing the input for inference\n",
    "test_input = {\n",
    "    \"model\" : \"gpt-4\",\n",
    "    \"messages\" : [{ \"content\": \"introduce the author of bible\",\"role\": \"user\"}]\n",
    "}\n",
    "\n",
    "\n",
    "endpoint = f\"{deployment_url}/chat/completions?api-version=2023-05-15\" # endpoint implemented in serving engine\n",
    "print(endpoint)\n",
    "headers = {\"Authorization\": f\"Bearer {auth_token}\",\n",
    "           'ai-resource-group': resource_group.value,\n",
    "           \"Content-Type\": \"application/json\"}\n",
    "response = requests.post(endpoint, headers=headers, json=test_input)\n",
    "\n",
    "print('Inference result:', response)\n",
    "print('Inference result:', response.text)"
   ]
  },
  {
   "cell_type": "code",
   "execution_count": null,
   "metadata": {},
   "outputs": [],
   "source": []
  }
 ],
 "metadata": {
  "kernelspec": {
   "display_name": "Python 3 (ipykernel)",
   "language": "python",
   "name": "python3"
  },
  "language_info": {
   "codemirror_mode": {
    "name": "ipython",
    "version": 3
   },
   "file_extension": ".py",
   "mimetype": "text/x-python",
   "name": "python",
   "nbconvert_exporter": "python",
   "pygments_lexer": "ipython3",
   "version": "3.11.3"
  },
  "vscode": {
   "interpreter": {
    "hash": "de4a507b2430954be05ae5f9be35829c657a2682621712b642b28df909ac005f"
   }
  }
 },
 "nbformat": 4,
 "nbformat_minor": 4
}
