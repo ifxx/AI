{
 "cells": [
  {
   "cell_type": "markdown",
   "metadata": {},
   "source": [
    "## Import necessary libraries"
   ]
  },
  {
   "cell_type": "code",
   "execution_count": 18,
   "metadata": {},
   "outputs": [],
   "source": [
    "from ipywidgets import widgets\n",
    "import json\n",
    "import os"
   ]
  },
  {
   "cell_type": "markdown",
   "metadata": {},
   "source": [
    "## Set input path to service instance's credential file\n",
    "Please insert the credentials json file path into \"value\". Ensure the credentials json file to your AI Core are downloaded and provided in the folder where this notebook is located.\n",
    "The credential files for each use case resource group is uploaded in the SAP Passvault. You can find the link for your use case here: https://wiki.one.int.sap/wiki/display/IECOE/SAP+AI+Core+Use+Cases\n",
    "Just download the txt file, place it in this folder and change the extension to .json."
   ]
  },
  {
   "cell_type": "code",
   "execution_count": 29,
   "metadata": {},
   "outputs": [
    {
     "data": {
      "application/vnd.jupyter.widget-view+json": {
       "model_id": "970364a987814e538e3fda158d81949b",
       "version_major": 2,
       "version_minor": 0
      },
      "text/plain": [
       "Text(value='config/irpa-d26-genaixl-cx-sec-cn-sk.json', placeholder=\"Path to service instance's credential fil…"
      ]
     },
     "execution_count": 29,
     "metadata": {},
     "output_type": "execute_result"
    }
   ],
   "source": [
    "cf_creds_file = widgets.Text(\n",
    "    value='config/irpa-d26-genaixl-cx-sec-cn-sk.json', # service credentials file path\n",
    "    placeholder=\"Path to service instance's credential file\",\n",
    "    description='',\n",
    "    disabled=False\n",
    ")\n",
    "\n",
    "cf_creds_file"
   ]
  },
  {
   "cell_type": "markdown",
   "metadata": {},
   "source": [
    "Please insert the resource group value. It can be obtained in AI Launchpad under **\"Workspaces\" -> \"AI API Connections\" -> \"Resource Groups\"**\n",
    "Alternatively your resource group will also be listed on the wiki page from above: https://wiki.one.int.sap/wiki/display/IECOE/SAP+AI+Core+Use+Cases\n"
   ]
  },
  {
   "cell_type": "code",
   "execution_count": 20,
   "metadata": {},
   "outputs": [
    {
     "data": {
      "application/vnd.jupyter.widget-view+json": {
       "model_id": "d2c1272f745c4a0bb4286b37a7c4f185",
       "version_major": 2,
       "version_minor": 0
      },
      "text/plain": [
       "Text(value='default', placeholder='Resource group of deployments')"
      ]
     },
     "execution_count": 20,
     "metadata": {},
     "output_type": "execute_result"
    }
   ],
   "source": [
    "resource_group = widgets.Text(\n",
    "    value='default', # resource group change this to the given resource group\n",
    "    placeholder='Resource group of deployments',\n",
    "    description='',\n",
    "    disabled=False   \n",
    ")\n",
    "\n",
    "resource_group"
   ]
  },
  {
   "cell_type": "markdown",
   "metadata": {},
   "source": [
    "## Set Scenario ID (self-hosted models)\n",
    "Please insert the Scenario ID. The Scenario ID can be obtained in AI Launchpad under **\"ML Operations\" -> \"Scenarios\"**:\n",
    "As most use cases will be working with the foundation models provided by AICore you can probably just leave the Scenario ID as is.\n",
    "<img src=\"imgs/scenarioId.png\">\n",
    "<br/><br/>"
   ]
  },
  {
   "cell_type": "code",
   "execution_count": 21,
   "metadata": {},
   "outputs": [
    {
     "data": {
      "application/vnd.jupyter.widget-view+json": {
       "model_id": "fa3fa94c9c3549aaabb4e173c460fce4",
       "version_major": 2,
       "version_minor": 0
      },
      "text/plain": [
       "Text(value='foundation-models', placeholder='Scenario ID')"
      ]
     },
     "execution_count": 21,
     "metadata": {},
     "output_type": "execute_result"
    }
   ],
   "source": [
    "scenario_id = widgets.Text(\n",
    "    value='foundation-models', # scenario ID\n",
    "    placeholder='Scenario ID',\n",
    "    description='',\n",
    "    disabled=False\n",
    ")\n",
    "\n",
    "scenario_id"
   ]
  },
  {
   "cell_type": "markdown",
   "metadata": {},
   "source": [
    "## Set Config Names (self-hosted models)\n",
    "Please insert the Configuration Names value. The Configuration Names can be obtained in AI Launchpad under **\"ML Operations\" -> \"Configurations\".**\n",
    "\n",
    "\n",
    "To add multiple configuration names use the prefix with **\\*** in the end (e.g. **\"command-*\"** would include the configurations **\"command-config\"** and **\"command-nightly-config\"**)"
   ]
  },
  {
   "cell_type": "code",
   "execution_count": 22,
   "metadata": {},
   "outputs": [
    {
     "data": {
      "application/vnd.jupyter.widget-view+json": {
       "model_id": "bd92f5317782448c8529ba0d9e1b9cdf",
       "version_major": 2,
       "version_minor": 0
      },
      "text/plain": [
       "Text(value='fine-tuned-*', placeholder='Configuration names')"
      ]
     },
     "execution_count": 22,
     "metadata": {},
     "output_type": "execute_result"
    }
   ],
   "source": [
    "config_names = widgets.Text(\n",
    "    value='fine-tuned-*', # config names value\n",
    "    placeholder='Configuration names',\n",
    "    description='',\n",
    "    disabled=False\n",
    ")\n",
    "\n",
    "config_names"
   ]
  },
  {
   "cell_type": "markdown",
   "metadata": {},
   "source": [
    "## Set prediction URL suffix (self-hosted models)"
   ]
  },
  {
   "cell_type": "code",
   "execution_count": 7,
   "metadata": {},
   "outputs": [
    {
     "data": {
      "application/vnd.jupyter.widget-view+json": {
       "model_id": "5561ac9caf394b13b7130b270d18ac50",
       "version_major": 2,
       "version_minor": 0
      },
      "text/plain": [
       "Text(value='/v1/chat/completions', placeholder='')"
      ]
     },
     "execution_count": 7,
     "metadata": {},
     "output_type": "execute_result"
    }
   ],
   "source": [
    "prediction_url_suffix = widgets.Text(\n",
    "    value='/v1/chat/completions',\n",
    "    placeholder='',\n",
    "    description='',\n",
    "    disabled=False\n",
    ")\n",
    "\n",
    "prediction_url_suffix"
   ]
  },
  {
   "cell_type": "markdown",
   "metadata": {},
   "source": [
    "## Create environment variables from service instance credentials file\n",
    "Execute this cell to set the necessary env variables"
   ]
  },
  {
   "cell_type": "code",
   "execution_count": 30,
   "metadata": {},
   "outputs": [],
   "source": [
    "with open(cf_creds_file.value) as cf:\n",
    "    credCF = json.load(cf)\n",
    "\n",
    "base_url=credCF[\"serviceurls\"][\"AI_API_URL\"] + \"/v2\", # The present SAP AI Core API version is 2\n",
    "auth_url= credCF[\"url\"] + \"/oauth/token\", # Suffix to add\n",
    "client_id=credCF['clientid'],\n",
    "client_secret=credCF['clientsecret']\n",
    "\n",
    "os.environ['AICORE_LLM_AUTH_URL'] = auth_url[0]\n",
    "os.environ['AICORE_LLM_CLIENT_ID'] = client_id[0]\n",
    "os.environ['AICORE_LLM_CLIENT_SECRET'] = client_secret\n",
    "os.environ['AICORE_LLM_API_BASE'] = base_url[0]\n",
    "os.environ['AICORE_LLM_RESOURCE_GROUP'] = resource_group.value\n",
    "os.environ['LLM_COMMONS_PROXY'] = 'aicore'"
   ]
  },
  {
   "cell_type": "markdown",
   "metadata": {},
   "source": [
    "## Import llm-commons libraries"
   ]
  },
  {
   "cell_type": "code",
   "execution_count": 31,
   "metadata": {},
   "outputs": [],
   "source": [
    "from llm_commons.proxy.identity import AICoreProxyClient\n",
    "from llm_commons.langchain.proxy import ChatOpenAI"
   ]
  },
  {
   "cell_type": "markdown",
   "metadata": {},
   "source": [
    "## Create AI Core Proxy client\n",
    "Execute this cell to create the AI Core Proxy client."
   ]
  },
  {
   "cell_type": "code",
   "execution_count": 25,
   "metadata": {},
   "outputs": [],
   "source": [
    "aic_proxy_client = AICoreProxyClient()\n"
   ]
  },
  {
   "cell_type": "code",
   "execution_count": 32,
   "metadata": {},
   "outputs": [],
   "source": [
    "from llm_commons.proxy.base import set_proxy_version\n",
    "set_proxy_version('aicore') # for an AI Core proxy"
   ]
  },
  {
   "cell_type": "markdown",
   "metadata": {},
   "source": [
    "## Get all deployments"
   ]
  },
  {
   "cell_type": "code",
   "execution_count": 26,
   "metadata": {},
   "outputs": [
    {
     "data": {
      "text/plain": [
       "[Deployment(url='https://api.ai.prod.eu-central-1.aws.ml.hana.ondemand.com/v2/inference/deployments/dc8e3c266c8881f0', config_id='58a5ffea-1afe-44b4-b6b9-ca749776e58e', config_name='tiiuae--falcon-40b-instruct-config', deployment_id='dc8e3c266c8881f0', model_name='tiiuae--falcon-40b-instruct', created_at=datetime.datetime(2024, 1, 25, 12, 53, 26, tzinfo=datetime.timezone.utc), additonal_parameters={'executable_id': 'aicore-opensource', 'model_version': 'null'}, custom_prediction_suffix=None),\n",
       " Deployment(url='https://api.ai.prod.eu-central-1.aws.ml.hana.ondemand.com/v2/inference/deployments/dd88f66091ca1982', config_id='a99e09fb-7e88-4a8d-abe8-af7f8b146cb8', config_name='text-embedding-ada-002-config', deployment_id='dd88f66091ca1982', model_name='text-embedding-ada-002', created_at=datetime.datetime(2024, 1, 25, 12, 16, 20, tzinfo=datetime.timezone.utc), additonal_parameters={'executable_id': 'azure-openai', 'model_version': '2'}, custom_prediction_suffix=None),\n",
       " Deployment(url='https://api.ai.prod.eu-central-1.aws.ml.hana.ondemand.com/v2/inference/deployments/d9c8f17b7ee211ac', config_id='015f4d90-32b4-42a6-8a29-d1e919e2814f', config_name='gpt-4-32k-config', deployment_id='d9c8f17b7ee211ac', model_name='gpt-4-32k', created_at=datetime.datetime(2024, 1, 25, 12, 15, 48, tzinfo=datetime.timezone.utc), additonal_parameters={'executable_id': 'azure-openai', 'model_version': '0613'}, custom_prediction_suffix=None),\n",
       " Deployment(url='https://api.ai.prod.eu-central-1.aws.ml.hana.ondemand.com/v2/inference/deployments/d58f5bb41a9941cf', config_id='c5366699-82d2-4dd1-81fb-fa40e187e4bd', config_name='gpt-4-config', deployment_id='d58f5bb41a9941cf', model_name='gpt-4', created_at=datetime.datetime(2024, 1, 25, 12, 15, 2, tzinfo=datetime.timezone.utc), additonal_parameters={'executable_id': 'azure-openai', 'model_version': '0613'}, custom_prediction_suffix=None),\n",
       " Deployment(url='https://api.ai.prod.eu-central-1.aws.ml.hana.ondemand.com/v2/inference/deployments/d38094e51ff45aff', config_id='c4a9f175-13fb-4526-b7c8-5649f5e7d2fe', config_name='gpt-35-turbo-16k-config', deployment_id='d38094e51ff45aff', model_name='gpt-35-turbo-16k', created_at=datetime.datetime(2024, 1, 25, 12, 14, 18, tzinfo=datetime.timezone.utc), additonal_parameters={'executable_id': 'azure-openai', 'model_version': 'latest'}, custom_prediction_suffix=None),\n",
       " Deployment(url='https://api.ai.prod.eu-central-1.aws.ml.hana.ondemand.com/v2/inference/deployments/d10917558b77a3db', config_id='076308f4-6497-49aa-99ac-9c216b53be74', config_name='gpt-35-turbo-config', deployment_id='d10917558b77a3db', model_name='gpt-35-turbo', created_at=datetime.datetime(2024, 1, 25, 12, 13, 43, tzinfo=datetime.timezone.utc), additonal_parameters={'executable_id': 'azure-openai', 'model_version': 'latest'}, custom_prediction_suffix=None)]"
      ]
     },
     "execution_count": 26,
     "metadata": {},
     "output_type": "execute_result"
    }
   ],
   "source": [
    "aic_proxy_client.get_deployments()"
   ]
  },
  {
   "cell_type": "markdown",
   "metadata": {},
   "source": [
    "## Make the experimental deployments known to llm-commons (self-hosted models)\n",
    "Execute this cell to add self-hosted models to the AI Core client. \n",
    "\n",
    "Please skip this step if you just want to access the foundation models deployed on AI Core. They should already be visible and accessible."
   ]
  },
  {
   "cell_type": "code",
   "execution_count": 12,
   "metadata": {},
   "outputs": [
    {
     "ename": "NameError",
     "evalue": "name 'scenario_id' is not defined",
     "output_type": "error",
     "traceback": [
      "\u001b[1;31m---------------------------------------------------------------------------\u001b[0m",
      "\u001b[1;31mNameError\u001b[0m                                 Traceback (most recent call last)",
      "Cell \u001b[1;32mIn[12], line 3\u001b[0m\n\u001b[0;32m      1\u001b[0m \u001b[38;5;66;03m# make the deployments of experimental models known to llm-commons\u001b[39;00m\n\u001b[0;32m      2\u001b[0m aic_proxy_client\u001b[38;5;241m.\u001b[39madd_foundation_model_scenario(\n\u001b[1;32m----> 3\u001b[0m     scenario_id\u001b[38;5;241m=\u001b[39m\u001b[43mscenario_id\u001b[49m\u001b[38;5;241m.\u001b[39mvalue,\n\u001b[0;32m      4\u001b[0m     config_names\u001b[38;5;241m=\u001b[39mconfig_names\u001b[38;5;241m.\u001b[39mvalue,\n\u001b[0;32m      5\u001b[0m     prediction_url_suffix\u001b[38;5;241m=\u001b[39mprediction_url_suffix\u001b[38;5;241m.\u001b[39mvalue\n\u001b[0;32m      6\u001b[0m )\n\u001b[0;32m      8\u001b[0m \u001b[38;5;66;03m# get all deployments including self-hosted models\u001b[39;00m\n\u001b[0;32m      9\u001b[0m aic_proxy_client\u001b[38;5;241m.\u001b[39mget_deployments()\n",
      "\u001b[1;31mNameError\u001b[0m: name 'scenario_id' is not defined"
     ]
    }
   ],
   "source": [
    "# make the deployments of experimental models known to llm-commons\n",
    "aic_proxy_client.add_foundation_model_scenario(\n",
    "    scenario_id=scenario_id.value,\n",
    "    config_names=config_names.value,\n",
    "    prediction_url_suffix=prediction_url_suffix.value\n",
    ")\n",
    "\n",
    "# get all deployments including self-hosted models\n",
    "aic_proxy_client.get_deployments()"
   ]
  },
  {
   "cell_type": "markdown",
   "metadata": {},
   "source": [
    "## Predict with ChatOpenAI library\n",
    "Use the proxy model name from the above ```.get_deployments()``` response (**\"model_name\"**)."
   ]
  },
  {
   "cell_type": "code",
   "execution_count": 34,
   "metadata": {},
   "outputs": [
    {
     "data": {
      "text/plain": [
       "'新股发行时的分成比例因情况而异，主要取决于公司、投资者、承销商和其他参与方之间的协议。一般来说，以下是一个大概的分配：\\n\\n1. 公司：公司是新股发行的主要受益者。该公司通过发行新股筹集资金，用于扩大业务、偿还债务或进行其他投资。公司将获得新股发行收入的绝大部分，比例可能在90%到95%之间。\\n\\n2. 投资者：投资者购买新股，通常会期待随着公司的增长和成功，股票价值会增加。他们没有直接从新股发行中获得分成，而是通过股票的升值和股息收益。\\n\\n3. 承销商：承销商通常会帮助公司进行新股发行，并在过程中提供各种服务，包括市场研究、定价和分销股票。作为报酬，承销商通常会收取新股发行收入的一部分作为佣金，比例可能在5%到10%之间。\\n\\n4. 其他参与方：这可能包括法律顾问、会计师、咨询公司等。他们在新股发行过程中提供专业服务，并按照协议收取费用。这通常以固定费用的形式，而非新股发行收入的分成。\\n\\n请注意，以上比例只是一般的情况，实际情况可能会根据具体的协议、市场条件和其他因素有所不同。'"
      ]
     },
     "execution_count": 34,
     "metadata": {},
     "output_type": "execute_result"
    }
   ],
   "source": [
    "chat = ChatOpenAI(proxy_model_name='gpt-4')\n",
    "chat.predict('新股发行时各参与方的分成比例')"
   ]
  },
  {
   "cell_type": "code",
   "execution_count": 13,
   "metadata": {},
   "outputs": [
    {
     "data": {
      "text/plain": [
       "\"1. Improve Compliance Awareness: Set up regular training sessions and workshops to increase the team's knowledge and understanding of compliance-related issues. \\n\\n2. Develop a Comprehensive Compliance Program: Aim to develop an all-inclusive compliance program that covers all aspects of the organization's operations.\\n\\n3. Regular Compliance Audits: Conduct regular compliance audits to identify any potential issues or non-compliance areas that need rectifying.\\n\\n4. Update Compliance Policies: Ensure all compliance policies are up-to-date, reflecting any changes in industry standards or regulations.\\n\\n5. Enhance Reporting Procedures: Implement clear and effective reporting procedures for compliance issues. \\n\\n6. Reduce Non-Compliance Risks: Develop strategies to minimize the risks of non-compliance, such as penalties, fines, and reputational damage.\\n\\n7. Improve Compliance Communication: Improve communication regarding compliance issues both within the team and across the organization.\\n\\n8. Monitor Regulatory Changes: Keep a close eye on any changes in regulations or laws that could affect the organization's compliance status.\\n\\n9. Strengthen Ethical Standards: Uphold and strengthen the organization's commitment to ethical behavior and practices.\\n\\n10. Improve Compliance Tools: Invest in and utilize modern technology and software that can streamline compliance processes and make them more efficient.\\n\\n11. Increase Employee Engagement: Encourage employees to take an active role in compliance efforts by providing them with the necessary training and resources.\\n\\n12. Foster a Culture of Compliance: Make compliance a part of the organization’s culture by reinforcing its importance at all levels of the organization.\\n\\n13. Reduce Compliance Violations: Aim to reduce the number of compliance violations by implementing preventative measures and improving detection methods.\\n\\n14. Measure Compliance Success: Develop metrics to measure the success and effectiveness of the organization's compliance efforts.\\n\\n15. Review and Improve: Regularly review and improve the compliance program based on feedback, audit results, and changes in the regulatory environment.\""
      ]
     },
     "execution_count": 13,
     "metadata": {},
     "output_type": "execute_result"
    }
   ],
   "source": [
    "chat = ChatOpenAI(proxy_model_name='gpt-4-32k')\n",
    "chat.predict('i need to setup some goals for a compliance team')"
   ]
  },
  {
   "cell_type": "code",
   "execution_count": 14,
   "metadata": {},
   "outputs": [
    {
     "data": {
      "text/plain": [
       "'I am a language model AI created by OpenAI and do not have a personal name. You can refer to me as OpenAI or as a language model AI. How can I assist you today?'"
      ]
     },
     "execution_count": 14,
     "metadata": {},
     "output_type": "execute_result"
    }
   ],
   "source": [
    "chat = ChatOpenAI(proxy_model_name='gpt-35-turbo')\n",
    "chat.predict('What is your name?')"
   ]
  },
  {
   "cell_type": "code",
   "execution_count": 15,
   "metadata": {},
   "outputs": [
    {
     "data": {
      "text/plain": [
       "\"I am an AI language model developed by OpenAI and I don't have a personal name. You can simply refer to me as OpenAI Assistant. How can I assist you today?\""
      ]
     },
     "execution_count": 15,
     "metadata": {},
     "output_type": "execute_result"
    }
   ],
   "source": [
    "chat = ChatOpenAI(proxy_model_name='gpt-35-turbo-16k')\n",
    "chat.predict('What is your name?')"
   ]
  },
  {
   "cell_type": "markdown",
   "metadata": {},
   "source": [
    "## Predict with langchain\n",
    "Use the proxy model name from the above ```.get_deployments()``` response (**\"model_name\"**)."
   ]
  },
  {
   "cell_type": "code",
   "execution_count": 18,
   "metadata": {
    "scrolled": true
   },
   "outputs": [
    {
     "name": "stdout",
     "output_type": "stream",
     "text": [
      "\n",
      "\n",
      "\u001b[1m> Entering new LLMChain chain...\u001b[0m\n",
      "Prompt after formatting:\n",
      "\u001b[32;1m\u001b[1;3mQuestion: What is the world's best company in shanghai?\n",
      "Answer: Let's think step by step.\u001b[0m\n",
      "\n",
      "\u001b[1m> Finished chain.\u001b[0m\n",
      "Determining the \"best\" company can depend on various factors such as revenue, employee satisfaction, impact on the industry, etc. According to Forbes' list of top companies in the world, China's ICBC bank, headquartered in Shanghai, ranks high. Moreover, Shanghai is home to many other successful companies such as Bright Food Group and SAIC Motor. However, it's subjective and can vary based on the parameters you are considering.\n"
     ]
    }
   ],
   "source": [
    "from langchain.chains import LLMChain\n",
    "from langchain.prompts import PromptTemplate\n",
    "\n",
    "llm = ChatOpenAI(proxy_model_name='gpt-4-32k')\n",
    "template = \"Question: {question}\\nAnswer: Let's think step by step.\"\"\"\n",
    "prompt = PromptTemplate(template=template, input_variables=['question'])\n",
    "llm_chain = LLMChain(prompt=prompt, llm=llm, verbose=True)\n",
    "print(llm_chain.run(\"What is the world's best company in shanghai?\"))"
   ]
  },
  {
   "cell_type": "code",
   "execution_count": 19,
   "metadata": {},
   "outputs": [
    {
     "ename": "NameError",
     "evalue": "name 'date' is not defined",
     "output_type": "error",
     "traceback": [
      "\u001b[1;31m---------------------------------------------------------------------------\u001b[0m",
      "\u001b[1;31mNameError\u001b[0m                                 Traceback (most recent call last)",
      "Cell \u001b[1;32mIn[19], line 1\u001b[0m\n\u001b[1;32m----> 1\u001b[0m \u001b[38;5;28mprint\u001b[39m(\u001b[43mdate\u001b[49m())\n",
      "\u001b[1;31mNameError\u001b[0m: name 'date' is not defined"
     ]
    }
   ],
   "source": []
  },
  {
   "cell_type": "code",
   "execution_count": null,
   "metadata": {},
   "outputs": [],
   "source": []
  },
  {
   "cell_type": "code",
   "execution_count": 4,
   "metadata": {},
   "outputs": [
    {
     "name": "stdout",
     "output_type": "stream",
     "text": [
      "2606:4700::6810:323 无法访问\n",
      "2606:4700::6810:1922 无法访问\n",
      "2606:4700::6810:1f22 无法访问\n",
      "2606:4700::6810:1c22 无法访问\n",
      "2606:4700::6810:23 无法访问\n",
      "2606:4700::6810:1a22 无法访问\n",
      "2606:4700::6810:1b22 无法访问\n",
      "2606:4700::6810:1d22 无法访问\n",
      "2606:4700::6810:1e22 无法访问\n",
      "2606:4700::6810:223 无法访问\n",
      "2606:4700::6810:1822 无法访问\n",
      "2606:4700::6810:123 无法访问\n"
     ]
    }
   ],
   "source": [
    "import socket\n",
    "\n",
    "# 要测试的 IPv6 地址列表\n",
    "ipv6_addresses = [\n",
    "    \"2606:4700::6810:323\",\n",
    "    \"2606:4700::6810:1922\",\n",
    "    \"2606:4700::6810:1f22\",\n",
    "    \"2606:4700::6810:1c22\",\n",
    "    \"2606:4700::6810:23\",\n",
    "    \"2606:4700::6810:1a22\",\n",
    "    \"2606:4700::6810:1b22\",\n",
    "    \"2606:4700::6810:1d22\",\n",
    "    \"2606:4700::6810:1e22\",\n",
    "    \"2606:4700::6810:223\",\n",
    "    \"2606:4700::6810:1822\",\n",
    "    \"2606:4700::6810:123\",\n",
    "]\n",
    "\n",
    "# 逐个测试 IPv6 地址是否可以访问\n",
    "for ipv6_address in ipv6_addresses:\n",
    "    try:\n",
    "        # 使用 socket 模块连接到 registry.yarnpkg.com，并设置超时时间为 5 秒\n",
    "        sock = socket.socket(socket.AF_INET6, socket.SOCK_STREAM)\n",
    "        sock.settimeout(5)\n",
    "        sock.connect((ipv6_address, 443))\n",
    "        sock.close()\n",
    "\n",
    "        # 如果连接成功，则打印出 IPv6 地址并提示可以访问\n",
    "        print(f\"{ipv6_address} 可以访问\")\n",
    "    except socket.error:\n",
    "        # 如果连接失败，则打印出 IPv6 地址并提示无法访问\n",
    "        print(f\"{ipv6_address} 无法访问\")\n",
    "\n"
   ]
  },
  {
   "cell_type": "code",
   "execution_count": 3,
   "metadata": {},
   "outputs": [
    {
     "name": "stdout",
     "output_type": "stream",
     "text": [
      "Testing HTTPS reachability of https://104.16.27.34...\n",
      "Host 104.16.27.34 is unreachable over HTTPS due to error: HTTPSConnectionPool(host='104.16.27.34', port=443): Max retries exceeded with url: / (Caused by ConnectTimeoutError(<urllib3.connection.HTTPSConnection object at 0x0000022A43FEE050>, 'Connection to 104.16.27.34 timed out. (connect timeout=5)')).\n",
      "Testing HTTPS reachability of https://104.16.3.35...\n"
     ]
    },
    {
     "name": "stderr",
     "output_type": "stream",
     "text": [
      "c:\\python\\3.11\\Lib\\site-packages\\urllib3\\connectionpool.py:1095: InsecureRequestWarning: Unverified HTTPS request is being made to host '104.16.3.35'. Adding certificate verification is strongly advised. See: https://urllib3.readthedocs.io/en/latest/advanced-usage.html#tls-warnings\n",
      "  warnings.warn(\n"
     ]
    },
    {
     "name": "stdout",
     "output_type": "stream",
     "text": [
      "Host 104.16.3.35 is reachable over HTTPS (HTTP status code: 403).\n",
      "Testing HTTPS reachability of https://104.16.28.34...\n"
     ]
    },
    {
     "name": "stderr",
     "output_type": "stream",
     "text": [
      "c:\\python\\3.11\\Lib\\site-packages\\urllib3\\connectionpool.py:1095: InsecureRequestWarning: Unverified HTTPS request is being made to host '104.16.28.34'. Adding certificate verification is strongly advised. See: https://urllib3.readthedocs.io/en/latest/advanced-usage.html#tls-warnings\n",
      "  warnings.warn(\n"
     ]
    },
    {
     "name": "stdout",
     "output_type": "stream",
     "text": [
      "Host 104.16.28.34 is reachable over HTTPS (HTTP status code: 403).\n",
      "Testing HTTPS reachability of https://104.16.25.34...\n",
      "Host 104.16.25.34 is unreachable over HTTPS due to error: HTTPSConnectionPool(host='104.16.25.34', port=443): Max retries exceeded with url: / (Caused by ConnectTimeoutError(<urllib3.connection.HTTPSConnection object at 0x0000022A43FCCB50>, 'Connection to 104.16.25.34 timed out. (connect timeout=5)')).\n",
      "Testing HTTPS reachability of https://104.16.0.35...\n",
      "Host 104.16.0.35 is unreachable over HTTPS due to error: HTTPSConnectionPool(host='104.16.0.35', port=443): Max retries exceeded with url: / (Caused by ConnectTimeoutError(<urllib3.connection.HTTPSConnection object at 0x0000022A43FE7010>, 'Connection to 104.16.0.35 timed out. (connect timeout=5)')).\n",
      "Testing HTTPS reachability of https://104.16.2.35...\n",
      "Host 104.16.2.35 is unreachable over HTTPS due to error: HTTPSConnectionPool(host='104.16.2.35', port=443): Max retries exceeded with url: / (Caused by ConnectTimeoutError(<urllib3.connection.HTTPSConnection object at 0x0000022A43FE6B90>, 'Connection to 104.16.2.35 timed out. (connect timeout=5)')).\n",
      "Testing HTTPS reachability of https://104.16.1.35...\n",
      "Host 104.16.1.35 is unreachable over HTTPS due to error: HTTPSConnectionPool(host='104.16.1.35', port=443): Max retries exceeded with url: / (Caused by ConnectTimeoutError(<urllib3.connection.HTTPSConnection object at 0x0000022A43FDCA50>, 'Connection to 104.16.1.35 timed out. (connect timeout=5)')).\n",
      "Testing HTTPS reachability of https://104.16.24.34...\n",
      "Host 104.16.24.34 is unreachable over HTTPS due to error: HTTPSConnectionPool(host='104.16.24.34', port=443): Max retries exceeded with url: / (Caused by ConnectTimeoutError(<urllib3.connection.HTTPSConnection object at 0x0000022A43FED1D0>, 'Connection to 104.16.24.34 timed out. (connect timeout=5)')).\n",
      "Testing HTTPS reachability of https://104.16.30.34...\n"
     ]
    },
    {
     "name": "stderr",
     "output_type": "stream",
     "text": [
      "c:\\python\\3.11\\Lib\\site-packages\\urllib3\\connectionpool.py:1095: InsecureRequestWarning: Unverified HTTPS request is being made to host '104.16.30.34'. Adding certificate verification is strongly advised. See: https://urllib3.readthedocs.io/en/latest/advanced-usage.html#tls-warnings\n",
      "  warnings.warn(\n"
     ]
    },
    {
     "name": "stdout",
     "output_type": "stream",
     "text": [
      "Host 104.16.30.34 is reachable over HTTPS (HTTP status code: 403).\n",
      "Testing HTTPS reachability of https://104.16.26.34...\n",
      "Host 104.16.26.34 is unreachable over HTTPS due to error: HTTPSConnectionPool(host='104.16.26.34', port=443): Max retries exceeded with url: / (Caused by ConnectTimeoutError(<urllib3.connection.HTTPSConnection object at 0x0000022A43FEE250>, 'Connection to 104.16.26.34 timed out. (connect timeout=5)')).\n",
      "Testing HTTPS reachability of https://104.16.29.34...\n"
     ]
    },
    {
     "name": "stderr",
     "output_type": "stream",
     "text": [
      "c:\\python\\3.11\\Lib\\site-packages\\urllib3\\connectionpool.py:1095: InsecureRequestWarning: Unverified HTTPS request is being made to host '104.16.29.34'. Adding certificate verification is strongly advised. See: https://urllib3.readthedocs.io/en/latest/advanced-usage.html#tls-warnings\n",
      "  warnings.warn(\n"
     ]
    },
    {
     "name": "stdout",
     "output_type": "stream",
     "text": [
      "Host 104.16.29.34 is reachable over HTTPS (HTTP status code: 403).\n",
      "Testing HTTPS reachability of https://104.16.31.34...\n",
      "Host 104.16.31.34 is reachable over HTTPS (HTTP status code: 403).\n",
      "\n",
      "Reachable IP addresses:\n",
      "104.16.3.35\n",
      "104.16.28.34\n",
      "104.16.30.34\n",
      "104.16.29.34\n",
      "104.16.31.34\n"
     ]
    },
    {
     "name": "stderr",
     "output_type": "stream",
     "text": [
      "c:\\python\\3.11\\Lib\\site-packages\\urllib3\\connectionpool.py:1095: InsecureRequestWarning: Unverified HTTPS request is being made to host '104.16.31.34'. Adding certificate verification is strongly advised. See: https://urllib3.readthedocs.io/en/latest/advanced-usage.html#tls-warnings\n",
      "  warnings.warn(\n"
     ]
    }
   ],
   "source": [
    "import requests\n",
    "\n",
    "domain = \"registry.yarnpkg.com\"\n",
    "ip_list= [\n",
    "    \"104.16.27.34\",\n",
    "    \"104.16.3.35\",\n",
    "    \"104.16.28.34\",\n",
    "    \"104.16.25.34\",\n",
    "    \"104.16.0.35\",\n",
    "    \"104.16.2.35\",\n",
    "    \"104.16.1.35\",\n",
    "    \"104.16.24.34\",\n",
    "    \"104.16.30.34\",\n",
    "    \"104.16.26.34\",\n",
    "    \"104.16.29.34\",\n",
    "    \"104.16.31.34\"\n",
    "]\n",
    "reachable_ips = []\n",
    "\n",
    "# 循环遍历每个IP地址进行HTTPS连接测试\n",
    "for ip in ip_list:\n",
    "    url = f\"https://{ip}\"\n",
    "    print(f\"Testing HTTPS reachability of {url}...\")\n",
    "    \n",
    "    try:\n",
    "        # 发送一个GET请求，默认超时时间通常为2-3秒左右\n",
    "        response = requests.get(url, timeout=5, verify=False)  # 注意：verify=False忽略了SSL证书验证，生产环境中请确保正确处理证书验证\n",
    "\n",
    "        # 检查响应状态码\n",
    "        if response.status_code == 403:\n",
    "            print(f\"Host {ip} is reachable over HTTPS (HTTP status code: {response.status_code}).\")\n",
    "            reachable_ips.append(ip)\n",
    "        else:\n",
    "            print(f\"Host {ip} is not responding properly to HTTPS requests (HTTP status code: {response.status_code}).\")\n",
    "\n",
    "    except requests.exceptions.RequestException as e:\n",
    "        # 如果发生任何网络错误（如Timeout、ConnectionError等）\n",
    "        print(f\"Host {ip} is unreachable over HTTPS due to error: {str(e)}.\")\n",
    "print(\"\\nReachable IP addresses:\")\n",
    "for reachable_ip in reachable_ips:\n",
    "    print(reachable_ip)\n",
    "# 注意：在真实场景下，如果目标服务端口不是443（默认HTTPS端口），需要在URL中指定端口号。"
   ]
  }
 ],
 "metadata": {
  "kernelspec": {
   "display_name": "Python 3 (ipykernel)",
   "language": "python",
   "name": "python3"
  },
  "language_info": {
   "codemirror_mode": {
    "name": "ipython",
    "version": 3
   },
   "file_extension": ".py",
   "mimetype": "text/x-python",
   "name": "python",
   "nbconvert_exporter": "python",
   "pygments_lexer": "ipython3",
   "version": "3.11.3"
  }
 },
 "nbformat": 4,
 "nbformat_minor": 4
}
